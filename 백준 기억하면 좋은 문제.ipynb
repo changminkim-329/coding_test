{
 "cells": [
  {
   "cell_type": "markdown",
   "id": "258bee59",
   "metadata": {},
   "source": [
    "# 백준 기억하면 좋은 문제"
   ]
  },
  {
   "cell_type": "markdown",
   "id": "635f727a",
   "metadata": {},
   "source": [
    "### 2941번 크로아티아 알파벳\n",
    "- https://www.acmicpc.net/problem/2941\n",
    "\n",
    "#### 기억할 점\n",
    "- 문자열 함수를 잘 알고 있으면 쉽게 풀 수 있다.\n",
    "- **문자 리스트를 합쳐 문자열을 만들 때 합쳐져서 의도치 않은 문자열이 생기는 지 확인 해야 됨.**\n",
    "    - 밑의 코드 '/' 을 통해 두 문자열 합쳐도 구분 할 수 있도록 한다.\n",
    "    - ex) 'iamk' -> 'am' -> ['i','k'] -join-> 'ik' : 의도치 않은 문자열"
   ]
  },
  {
   "cell_type": "code",
   "execution_count": 3,
   "id": "99e52f3e",
   "metadata": {},
   "outputs": [
    {
     "data": {
      "text/plain": [
       "['2', '4', '5']"
      ]
     },
     "execution_count": 3,
     "metadata": {},
     "output_type": "execute_result"
    }
   ],
   "source": [
    "list(str('245'))"
   ]
  },
  {
   "cell_type": "code",
   "execution_count": 1,
   "id": "24f0ef44",
   "metadata": {},
   "outputs": [
    {
     "name": "stdout",
     "output_type": "stream",
     "text": [
      "ljes=njak\n",
      "6\n"
     ]
    }
   ],
   "source": [
    "n = input()\n",
    "croatia_list = ['c=','c-','dz=','d-','lj','nj','s=','z=']\n",
    "total_sum = 0\n",
    "for i in range(len(croatia_list)):\n",
    "    n = n.split(croatia_list[i])\n",
    "\n",
    "    if len(n) > 1 :\n",
    "        total_sum = total_sum + len(n) - 1\n",
    "\n",
    "    n = '/'.join(n)\n",
    "    \n",
    "n = ''.join(n.split('/'))\n",
    "print(total_sum+len(n))"
   ]
  },
  {
   "cell_type": "code",
   "execution_count": null,
   "id": "8c45f7ec",
   "metadata": {},
   "outputs": [],
   "source": []
  }
 ],
 "metadata": {
  "kernelspec": {
   "display_name": "Python 3",
   "language": "python",
   "name": "python3"
  },
  "language_info": {
   "codemirror_mode": {
    "name": "ipython",
    "version": 3
   },
   "file_extension": ".py",
   "mimetype": "text/x-python",
   "name": "python",
   "nbconvert_exporter": "python",
   "pygments_lexer": "ipython3",
   "version": "3.8.10"
  }
 },
 "nbformat": 4,
 "nbformat_minor": 5
}
