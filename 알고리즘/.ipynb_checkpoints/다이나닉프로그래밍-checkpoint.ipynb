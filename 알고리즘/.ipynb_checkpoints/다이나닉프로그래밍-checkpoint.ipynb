{
 "cells": [
  {
   "cell_type": "markdown",
   "id": "50dfc2e3",
   "metadata": {},
   "source": [
    "# 다이나믹 프로그래밍\n",
    "- 최적의 해를 구하는 프로그래밍\n",
    "- 메모리 공간(리스트, 딕셔너리, 집합 등)을 약간 더사용하면 연산 속도를 비약적으로 증가 시킬 수 있는 방법\n",
    "- 다이나믹 프로그래밍의 핵심은 **점화식**을 작성할 수 있냐에 따라 관건이다."
   ]
  },
  {
   "cell_type": "code",
   "execution_count": null,
   "id": "3be071ca",
   "metadata": {},
   "outputs": [],
   "source": []
  },
  {
   "cell_type": "markdown",
   "id": "72c8d7fd",
   "metadata": {},
   "source": [
    "<h3 style='color:red;'>예제) 1로 만들기</h3>"
   ]
  },
  {
   "cell_type": "code",
   "execution_count": null,
   "id": "e80c6be2",
   "metadata": {},
   "outputs": [],
   "source": []
  },
  {
   "cell_type": "code",
   "execution_count": null,
   "id": "677263e7",
   "metadata": {},
   "outputs": [],
   "source": []
  },
  {
   "cell_type": "code",
   "execution_count": 2,
   "id": "9adf053c",
   "metadata": {},
   "outputs": [
    {
     "name": "stdout",
     "output_type": "stream",
     "text": [
      "26\n"
     ]
    }
   ],
   "source": [
    "x = int(input())"
   ]
  },
  {
   "cell_type": "code",
   "execution_count": 3,
   "id": "2bb76c02",
   "metadata": {},
   "outputs": [
    {
     "name": "stdout",
     "output_type": "stream",
     "text": [
      "26\n"
     ]
    },
    {
     "ename": "NameError",
     "evalue": "name 'math' is not defined",
     "output_type": "error",
     "traceback": [
      "\u001b[0;31m\u001b[0m",
      "\u001b[0;31mNameError\u001b[0mTraceback (most recent call last)",
      "Input \u001b[0;32mIn [3]\u001b[0m, in \u001b[0;36m<cell line: 2>\u001b[0;34m()\u001b[0m\n\u001b[1;32m      2\u001b[0m \u001b[38;5;28;01mwhile\u001b[39;00m x\u001b[38;5;241m>\u001b[39m\u001b[38;5;241m1\u001b[39m:\n\u001b[1;32m      3\u001b[0m     \u001b[38;5;28mprint\u001b[39m(x)\n\u001b[0;32m----> 4\u001b[0m     \u001b[38;5;28;01mif\u001b[39;00m \u001b[43mmath\u001b[49m\u001b[38;5;241m.\u001b[39mlog(x,\u001b[38;5;241m5\u001b[39m)\u001b[38;5;241m.\u001b[39mis_integer():\n\u001b[1;32m      5\u001b[0m         count \u001b[38;5;241m+\u001b[39m\u001b[38;5;241m=\u001b[39m\u001b[38;5;28mint\u001b[39m(math\u001b[38;5;241m.\u001b[39mlog(x,\u001b[38;5;241m5\u001b[39m))\n\u001b[1;32m      6\u001b[0m         \u001b[38;5;28;01mbreak\u001b[39;00m\n",
      "\u001b[0;31mNameError\u001b[0m: name 'math' is not defined"
     ]
    }
   ],
   "source": [
    "count = 0\n",
    "while x>1:\n",
    "    print(x)\n",
    "    if math.log(x,5).is_integer():\n",
    "        count +=int(math.log(x,5))\n",
    "        break\n",
    "    if math.log(x,3).is_integer():\n",
    "        count +=int(math.log(x,3))\n",
    "        break\n",
    "    if math.log(x,2).is_integer():\n",
    "        count +=int(math.log(x,2))\n",
    "        break\n",
    "    x -= 1\n",
    "    count +=1"
   ]
  },
  {
   "cell_type": "code",
   "execution_count": null,
   "id": "5beae678",
   "metadata": {},
   "outputs": [],
   "source": []
  },
  {
   "cell_type": "code",
   "execution_count": null,
   "id": "6303813f",
   "metadata": {},
   "outputs": [],
   "source": []
  },
  {
   "cell_type": "code",
   "execution_count": null,
   "id": "8fc7a613",
   "metadata": {},
   "outputs": [],
   "source": [
    "사용 isinstance() 기능"
   ]
  },
  {
   "cell_type": "code",
   "execution_count": null,
   "id": "f27967c1",
   "metadata": {},
   "outputs": [],
   "source": []
  }
 ],
 "metadata": {
  "kernelspec": {
   "display_name": "Python 3",
   "language": "python",
   "name": "python3"
  },
  "language_info": {
   "codemirror_mode": {
    "name": "ipython",
    "version": 3
   },
   "file_extension": ".py",
   "mimetype": "text/x-python",
   "name": "python",
   "nbconvert_exporter": "python",
   "pygments_lexer": "ipython3",
   "version": "3.8.10"
  }
 },
 "nbformat": 4,
 "nbformat_minor": 5
}
