{
 "cells": [
  {
   "cell_type": "markdown",
   "id": "85f60af7",
   "metadata": {},
   "source": [
    "# 구현"
   ]
  },
  {
   "cell_type": "markdown",
   "id": "d534d483",
   "metadata": {},
   "source": [
    "단순하게 짜도 된다.(굳이 코드를 이쁘게 짤 필요는 없다.)"
   ]
  },
  {
   "cell_type": "code",
   "execution_count": 27,
   "id": "d051f305",
   "metadata": {},
   "outputs": [
    {
     "name": "stdout",
     "output_type": "stream",
     "text": [
      "5\n",
      "R R R U D D\n"
     ]
    }
   ],
   "source": [
    "n = int(input())\n",
    "p_list = input().split()"
   ]
  },
  {
   "cell_type": "code",
   "execution_count": 28,
   "id": "63078887",
   "metadata": {},
   "outputs": [
    {
     "name": "stdout",
     "output_type": "stream",
     "text": [
      "[3, 4]\n"
     ]
    }
   ],
   "source": [
    "p = [1,1]\n",
    "for i in p_list:\n",
    "    if i == 'L' :\n",
    "        p[1] -=1\n",
    "        if p[1] < 1:\n",
    "            p[1] = 1\n",
    "    if i == 'R' :\n",
    "        p[1] +=1\n",
    "        if p[1] > n:\n",
    "            p[1] = n\n",
    "    if i == 'U' :\n",
    "        p[0] -=1\n",
    "        if p[0] < 1:\n",
    "            p[0] = 1\n",
    "    if i == 'D' :\n",
    "        p[0] +=1\n",
    "        if p[0] > n:\n",
    "            p[0] = n\n",
    "\n",
    "print(p)"
   ]
  },
  {
   "cell_type": "code",
   "execution_count": 32,
   "id": "50a86950",
   "metadata": {},
   "outputs": [],
   "source": [
    "a = 1\n",
    "a = a if a-1 != 0 else 1"
   ]
  },
  {
   "cell_type": "code",
   "execution_count": 30,
   "id": "e071a0d2",
   "metadata": {},
   "outputs": [],
   "source": [
    "move = ['L','R','U','D']\n",
    "dx = [-1,1,0,0]\n",
    "dy = [0,0,-1,1]\n",
    "p = [1,1]\n",
    "\n",
    "for i in p_list:\n",
    "    \n",
    "    p[0]+dy[move.index(i)] [1]+dx[move.index(i)]"
   ]
  },
  {
   "cell_type": "code",
   "execution_count": null,
   "id": "2776e990",
   "metadata": {},
   "outputs": [],
   "source": []
  },
  {
   "cell_type": "markdown",
   "id": "83b78642",
   "metadata": {},
   "source": [
    "<h3 style='color:red;'>예제) 시각</h3>\n",
    "\n",
    "- 해당 문제는 **브루스 포스**를 사용해서 푸는 문제 이다."
   ]
  },
  {
   "cell_type": "code",
   "execution_count": 9,
   "id": "96aa42c2",
   "metadata": {
    "scrolled": true
   },
   "outputs": [
    {
     "name": "stdout",
     "output_type": "stream",
     "text": [
      "5\n"
     ]
    }
   ],
   "source": [
    "n = int(input())"
   ]
  },
  {
   "cell_type": "code",
   "execution_count": 19,
   "id": "56632c38",
   "metadata": {},
   "outputs": [
    {
     "name": "stdout",
     "output_type": "stream",
     "text": [
      "11475\n"
     ]
    }
   ],
   "source": [
    "total = 0 \n",
    "for i in range(n+1):\n",
    "    for j in range(60):\n",
    "        for v in range(60):\n",
    "            s = str(i)+str(j)+str(v)\n",
    "            if '3' in list(s) :\n",
    "                total += 1\n",
    "print(total)"
   ]
  },
  {
   "cell_type": "code",
   "execution_count": null,
   "id": "2254e406",
   "metadata": {},
   "outputs": [],
   "source": []
  },
  {
   "cell_type": "code",
   "execution_count": 21,
   "id": "ff5df7a6",
   "metadata": {},
   "outputs": [
    {
     "name": "stdout",
     "output_type": "stream",
     "text": [
      "a1\n"
     ]
    }
   ],
   "source": [
    "n,m = list(input())"
   ]
  },
  {
   "cell_type": "code",
   "execution_count": 22,
   "id": "fbeaf5ca",
   "metadata": {},
   "outputs": [
    {
     "name": "stdout",
     "output_type": "stream",
     "text": [
      "2\n"
     ]
    }
   ],
   "source": [
    "n_p = {'a':1,'b':2,'c':3,'d':4,'e':5,'f':6,'g':7,'h':8}\n",
    "p = [n_p[n],int(m)]\n",
    "p_op = [[-1,-2],[1,-2],[-2,-1],[-2,1],[-1,2],[1,2],[2,-1],[2,1]]\n",
    "\n",
    "\n",
    "count = 0 \n",
    "for i in p_op:\n",
    "    a = i[0] + p[0]\n",
    "    b = i[1] + p[1]\n",
    "\n",
    "    if (a>=1 and a<=8) and (b>=1 and b<=8):\n",
    "        count += 1\n",
    "        \n",
    "print(count)"
   ]
  },
  {
   "cell_type": "markdown",
   "id": "8055b152",
   "metadata": {},
   "source": [
    "**문자를 숫자로 바꾸기** 와 **리스트 요소 간 연산 방법**을 몰라서 조금 코드가 길어졌다."
   ]
  },
  {
   "cell_type": "code",
   "execution_count": 26,
   "id": "e73c2f46",
   "metadata": {},
   "outputs": [
    {
     "name": "stdout",
     "output_type": "stream",
     "text": [
      "2\n"
     ]
    }
   ],
   "source": [
    "p = [ord(n) - ord('a') + 1, int(m)]\n",
    "p_op = [[-1,-2],[1,-2],[-2,-1],[-2,1],[-1,2],[1,2],[2,-1],[2,1]]\n",
    "\n",
    "\n",
    "count = 0 \n",
    "for i in p_op:\n",
    "    a,b = [x + y for x, y in zip(i,p)]\n",
    "\n",
    "    if (a>=1 and a<=8) and (b>=1 and b<=8):\n",
    "        count += 1\n",
    "        \n",
    "print(count)"
   ]
  },
  {
   "cell_type": "code",
   "execution_count": null,
   "id": "58033bde",
   "metadata": {},
   "outputs": [],
   "source": []
  },
  {
   "cell_type": "markdown",
   "id": "d21daf2b",
   "metadata": {},
   "source": [
    "<h3 style='color:red;'>예제) 게임 개발</h3>\n",
    "\n",
    "- 예상 풀이 시간 : 40분\n",
    "- 걸린 시간: 50분"
   ]
  },
  {
   "cell_type": "code",
   "execution_count": 94,
   "id": "d54d3389",
   "metadata": {},
   "outputs": [
    {
     "name": "stdout",
     "output_type": "stream",
     "text": [
      "4 4\n",
      "1 1 0\n",
      "1 1 1 1\n",
      "1 0 0 1\n",
      "1 1 0 1\n",
      "1 1 1 1\n"
     ]
    }
   ],
   "source": [
    "n,m = map(int,input().split())\n",
    "a,b,d = map(int,input().split())\n",
    "area = []\n",
    "for i in range(n):\n",
    "    area.append(list(map(int,input().split())))"
   ]
  },
  {
   "cell_type": "code",
   "execution_count": 97,
   "id": "8bffe5aa",
   "metadata": {},
   "outputs": [
    {
     "name": "stdout",
     "output_type": "stream",
     "text": [
      "3\n"
     ]
    }
   ],
   "source": [
    "t_ = {0:[-1,0],1:[0,1],2:[1,0],3:[0,-1]}\n",
    "check_point = []\n",
    "check_point.append([a,b])\n",
    "limit_count = 0\n",
    "while True:\n",
    "    d = d-1 if (d - 1) != -1 else 3 \n",
    "    check = [ x+y for x,y in zip([a,b],t_[d])]\n",
    "    \n",
    "    if area[check[0]][check[1]] != 1:\n",
    "        if not check in check_point:\n",
    "            a = check[0]\n",
    "            b = check[1]\n",
    "            check_point.append(check)\n",
    "            limit_count = 0\n",
    "            continue\n",
    "    \n",
    "    limit_count += 1\n",
    "    \n",
    "    if limit_count == 4:\n",
    "        d_ = d + 2 if d + 2 <= 3 else d - 2\n",
    "        check = [ x+y for x,y in zip([a,b],t_[d_])]\n",
    "        if area[check[0]][check[1]] == 1:\n",
    "            break\n",
    "        \n",
    "        else:\n",
    "            a = check[0]\n",
    "            b = check[1]\n",
    "            limit_count = 0\n",
    "            \n",
    "print(len(check_point))"
   ]
  },
  {
   "cell_type": "code",
   "execution_count": null,
   "id": "2e80b255",
   "metadata": {},
   "outputs": [],
   "source": []
  }
 ],
 "metadata": {
  "kernelspec": {
   "display_name": "Python 3",
   "language": "python",
   "name": "python3"
  },
  "language_info": {
   "codemirror_mode": {
    "name": "ipython",
    "version": 3
   },
   "file_extension": ".py",
   "mimetype": "text/x-python",
   "name": "python",
   "nbconvert_exporter": "python",
   "pygments_lexer": "ipython3",
   "version": "3.8.10"
  }
 },
 "nbformat": 4,
 "nbformat_minor": 5
}
