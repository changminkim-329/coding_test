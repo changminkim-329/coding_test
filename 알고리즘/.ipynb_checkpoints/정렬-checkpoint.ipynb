{
 "cells": [
  {
   "cell_type": "markdown",
   "id": "4fb219f8",
   "metadata": {},
   "source": [
    "# 정렬"
   ]
  },
  {
   "cell_type": "markdown",
   "id": "836cc058",
   "metadata": {},
   "source": [
    "### 예제) 위에서 아래로"
   ]
  },
  {
   "cell_type": "code",
   "execution_count": 2,
   "id": "e4b014f0",
   "metadata": {},
   "outputs": [
    {
     "name": "stdout",
     "output_type": "stream",
     "text": [
      "3\n",
      "15\n",
      "28\n",
      "12\n"
     ]
    }
   ],
   "source": [
    "n = int(input())\n",
    "list_ = []\n",
    "for _ in range(n):\n",
    "    list_.append(int(input()))"
   ]
  },
  {
   "cell_type": "code",
   "execution_count": 6,
   "id": "d558ba6e",
   "metadata": {},
   "outputs": [
    {
     "data": {
      "text/plain": [
       "[28, 15, 12]"
      ]
     },
     "execution_count": 6,
     "metadata": {},
     "output_type": "execute_result"
    }
   ],
   "source": [
    "sorted(list_,reverse=True)"
   ]
  },
  {
   "cell_type": "code",
   "execution_count": 15,
   "id": "878cf721",
   "metadata": {},
   "outputs": [
    {
     "name": "stdout",
     "output_type": "stream",
     "text": [
      "2\n",
      "홍길동 77\n",
      "이순신 95\n"
     ]
    }
   ],
   "source": [
    "n = int(input())\n",
    "scores = {}\n",
    "for i in range(n):\n",
    "    name, score = input().split()\n",
    "    score = int(score)\n",
    "    scores[name] = score"
   ]
  },
  {
   "cell_type": "code",
   "execution_count": 18,
   "id": "da26a8a6",
   "metadata": {
    "scrolled": true
   },
   "outputs": [],
   "source": [
    "d = sorted(scores.items(),key=lambda x: x[1])"
   ]
  },
  {
   "cell_type": "code",
   "execution_count": 19,
   "id": "b5aafbaa",
   "metadata": {},
   "outputs": [
    {
     "data": {
      "text/plain": [
       "[('홍길동', 77), ('이순신', 95)]"
      ]
     },
     "execution_count": 19,
     "metadata": {},
     "output_type": "execute_result"
    }
   ],
   "source": [
    "d"
   ]
  },
  {
   "cell_type": "code",
   "execution_count": 29,
   "id": "d2631226",
   "metadata": {},
   "outputs": [
    {
     "data": {
      "text/plain": [
       "[('홍길동', 77), ('이순신', 95)]"
      ]
     },
     "execution_count": 29,
     "metadata": {},
     "output_type": "execute_result"
    }
   ],
   "source": [
    "d"
   ]
  },
  {
   "cell_type": "code",
   "execution_count": 31,
   "id": "b9597106",
   "metadata": {},
   "outputs": [
    {
     "name": "stdout",
     "output_type": "stream",
     "text": [
      "홍길동 이순신 "
     ]
    }
   ],
   "source": [
    "for i in dict(d).keys():\n",
    "    print(i,end=' ')"
   ]
  },
  {
   "cell_type": "code",
   "execution_count": null,
   "id": "83dec670",
   "metadata": {},
   "outputs": [],
   "source": []
  },
  {
   "cell_type": "markdown",
   "id": "3a74bf3a",
   "metadata": {},
   "source": [
    "### 예제) 두 배열의 원소 교체"
   ]
  },
  {
   "cell_type": "code",
   "execution_count": 32,
   "id": "cdf61d48",
   "metadata": {},
   "outputs": [
    {
     "name": "stdout",
     "output_type": "stream",
     "text": [
      "5 3\n",
      "1 2 5 4 3\n",
      "5 5 6 6 5\n"
     ]
    }
   ],
   "source": [
    "n, k = map(int,input().split())\n",
    "a = list(map(int,input().split()))\n",
    "b = list(map(int,input().split()))"
   ]
  },
  {
   "cell_type": "code",
   "execution_count": 36,
   "id": "c6cf0c12",
   "metadata": {},
   "outputs": [
    {
     "data": {
      "text/plain": [
       "[1, 2, 3, 4, 5]"
      ]
     },
     "execution_count": 36,
     "metadata": {},
     "output_type": "execute_result"
    }
   ],
   "source": [
    "sorted(a)"
   ]
  },
  {
   "cell_type": "code",
   "execution_count": 35,
   "id": "af219f63",
   "metadata": {},
   "outputs": [
    {
     "data": {
      "text/plain": [
       "[6, 6, 5, 5, 5]"
      ]
     },
     "execution_count": 35,
     "metadata": {},
     "output_type": "execute_result"
    }
   ],
   "source": [
    "sorted(b,reverse=True)"
   ]
  },
  {
   "cell_type": "code",
   "execution_count": 54,
   "id": "06105133",
   "metadata": {},
   "outputs": [
    {
     "name": "stdout",
     "output_type": "stream",
     "text": [
      "[1, 2, 5, 4, 3]\n",
      "\n",
      "[6, 2, 3, 4, 5]\n",
      "[6, 3, 4, 5, 6]\n",
      "[5, 4, 5, 6, 6]\n"
     ]
    }
   ],
   "source": [
    "a_ = a\n",
    "b_ = b\n",
    "print(a_)\n",
    "print()\n",
    "for i in range(3):\n",
    "    a_ = sorted(a_)\n",
    "    b_ = sorted(b_,reverse=True)\n",
    "\n",
    "    if a_[0] < b_[0] :\n",
    "        temp = a_[0]\n",
    "        a_[0] = b_[0]\n",
    "        b_[0] = temp\n",
    "    else:\n",
    "        break\n",
    "    print(a_)"
   ]
  },
  {
   "cell_type": "code",
   "execution_count": 55,
   "id": "b4ac2aea",
   "metadata": {
    "scrolled": true
   },
   "outputs": [
    {
     "data": {
      "text/plain": [
       "26"
      ]
     },
     "execution_count": 55,
     "metadata": {},
     "output_type": "execute_result"
    }
   ],
   "source": [
    "sum(a_)"
   ]
  },
  {
   "cell_type": "markdown",
   "id": "989b3330",
   "metadata": {},
   "source": [
    "## 기출 문제"
   ]
  },
  {
   "cell_type": "markdown",
   "id": "42df3e6b",
   "metadata": {},
   "source": [
    "### 예제) 국영수"
   ]
  },
  {
   "cell_type": "markdown",
   "id": "3bd5e386",
   "metadata": {},
   "source": [
    "#### 이중 조건을 알면 금방 풀음"
   ]
  },
  {
   "cell_type": "code",
   "execution_count": 82,
   "id": "f3fe455f",
   "metadata": {},
   "outputs": [],
   "source": [
    "a = [['A',3],['a',1],['A',2]]"
   ]
  },
  {
   "cell_type": "code",
   "execution_count": 83,
   "id": "3dfc6e56",
   "metadata": {},
   "outputs": [
    {
     "data": {
      "text/plain": [
       "[['A', 2], ['A', 3], ['a', 1]]"
      ]
     },
     "execution_count": 83,
     "metadata": {},
     "output_type": "execute_result"
    }
   ],
   "source": [
    "sorted(a,key=lambda x: (x[0],x[1]))"
   ]
  },
  {
   "cell_type": "code",
   "execution_count": 90,
   "id": "17c156ba",
   "metadata": {},
   "outputs": [
    {
     "data": {
      "text/plain": [
       "[['A', 2], ['A', 3], ['a', 1]]"
      ]
     },
     "execution_count": 90,
     "metadata": {},
     "output_type": "execute_result"
    }
   ],
   "source": [
    "sorted(a,key=lambda x: (x[0],x[1]))"
   ]
  },
  {
   "cell_type": "code",
   "execution_count": 89,
   "id": "94ed3a04",
   "metadata": {},
   "outputs": [
    {
     "data": {
      "text/plain": [
       "[['A', 3], ['A', 2], ['a', 1]]"
      ]
     },
     "execution_count": 89,
     "metadata": {},
     "output_type": "execute_result"
    }
   ],
   "source": [
    "sorted(a,key=lambda x: (-x[1],x[0]))"
   ]
  },
  {
   "cell_type": "code",
   "execution_count": 104,
   "id": "61756d7f",
   "metadata": {},
   "outputs": [
    {
     "data": {
      "text/plain": [
       "[['a', 1], ['A', 3], ['A', 2]]"
      ]
     },
     "execution_count": 104,
     "metadata": {},
     "output_type": "execute_result"
    }
   ],
   "source": [
    "sorted(a,key=lambda x: (-ord(x[0])))\n",
    "# 문자열은 - 붙일시 에러가 나서 ord로 정수로 바꾸어 준다음에 하면 됨"
   ]
  },
  {
   "cell_type": "code",
   "execution_count": 57,
   "id": "be64581c",
   "metadata": {},
   "outputs": [
    {
     "name": "stdout",
     "output_type": "stream",
     "text": [
      "4\n",
      "Sangkeun 80 60 50\n",
      "Sunyoung 80 70 100\n",
      "Donghynk 80 60 100\n",
      "nsj 80 80 80\n"
     ]
    }
   ],
   "source": [
    "n = int(input())\n",
    "study = []\n",
    "for i in range(n):\n",
    "    m = input().split()\n",
    "    study.append([m[0],int(m[1]),int(m[2]),int(m[3])])"
   ]
  },
  {
   "cell_type": "code",
   "execution_count": 61,
   "id": "5e374e3c",
   "metadata": {},
   "outputs": [
    {
     "data": {
      "text/plain": [
       "[['Sangkeun', 80, 60, 50],\n",
       " ['Sunyoung', 80, 70, 100],\n",
       " ['Donghynk', 80, 60, 100],\n",
       " ['nsj', 80, 80, 80]]"
      ]
     },
     "execution_count": 61,
     "metadata": {},
     "output_type": "execute_result"
    }
   ],
   "source": [
    "study"
   ]
  },
  {
   "cell_type": "code",
   "execution_count": 80,
   "id": "a4251c7d",
   "metadata": {},
   "outputs": [],
   "source": [
    "sorted_study = sorted(study,key=lambda x: (-x[1],x[2],-x[3],x[0]))"
   ]
  },
  {
   "cell_type": "code",
   "execution_count": 81,
   "id": "3f852734",
   "metadata": {},
   "outputs": [
    {
     "name": "stdout",
     "output_type": "stream",
     "text": [
      "Donghynk\n",
      "Sangkeun\n",
      "Sunyoung\n",
      "nsj\n"
     ]
    }
   ],
   "source": [
    "for s in sorted_study:\n",
    "    print(s[0])"
   ]
  },
  {
   "cell_type": "markdown",
   "id": "f5f7187f",
   "metadata": {},
   "source": [
    "### 예제) 안테나"
   ]
  },
  {
   "cell_type": "code",
   "execution_count": 105,
   "id": "31b9cf99",
   "metadata": {},
   "outputs": [
    {
     "name": "stdout",
     "output_type": "stream",
     "text": [
      "4\n",
      "5 1 7 9\n"
     ]
    }
   ],
   "source": [
    "n = int(input())\n",
    "p = list(map(int,input().split()))"
   ]
  },
  {
   "cell_type": "code",
   "execution_count": 107,
   "id": "de9cf976",
   "metadata": {},
   "outputs": [],
   "source": [
    "p_ = sorted(p)"
   ]
  },
  {
   "cell_type": "code",
   "execution_count": 120,
   "id": "0e1011ee",
   "metadata": {},
   "outputs": [
    {
     "name": "stdout",
     "output_type": "stream",
     "text": [
      "5\n"
     ]
    }
   ],
   "source": [
    "if len(p_)%2 == 1 :\n",
    "    print(p_[len(p_)//2])\n",
    "else:\n",
    "    print(p_[len(p_)//2 -1])"
   ]
  },
  {
   "cell_type": "code",
   "execution_count": null,
   "id": "ce893d0a",
   "metadata": {},
   "outputs": [],
   "source": []
  },
  {
   "cell_type": "markdown",
   "id": "99a84f70",
   "metadata": {},
   "source": [
    "<h3 style='color:red;'>예제) 카드 정렬하기</h3>"
   ]
  },
  {
   "cell_type": "markdown",
   "id": "40b7bb33",
   "metadata": {},
   "source": [
    "#### 힙 정렬을 사용해야 시간 초과가 발생하지 않는 문제"
   ]
  },
  {
   "cell_type": "code",
   "execution_count": 162,
   "id": "86dc849f",
   "metadata": {},
   "outputs": [
    {
     "data": {
      "text/plain": [
       "270"
      ]
     },
     "execution_count": 162,
     "metadata": {},
     "output_type": "execute_result"
    }
   ],
   "source": [
    "10\n",
    "191\n",
    "280\n",
    "50\n",
    "77\n",
    "250\n",
    "120\n",
    "200\n",
    "200\n",
    "412\n",
    "21"
   ]
  },
  {
   "cell_type": "code",
   "execution_count": 2,
   "id": "1210740f",
   "metadata": {},
   "outputs": [],
   "source": [
    "from collections import deque"
   ]
  },
  {
   "cell_type": "code",
   "execution_count": 3,
   "id": "247d0344",
   "metadata": {},
   "outputs": [
    {
     "name": "stdout",
     "output_type": "stream",
     "text": [
      "10\n",
      "191\n",
      "280\n",
      "50\n",
      "77\n",
      "250\n",
      "120\n",
      "200\n",
      "200\n",
      "412\n",
      "21\n"
     ]
    }
   ],
   "source": [
    "n = int(input())\n",
    "cards = deque()\n",
    "for i in range(n):\n",
    "    cards.append(int(input()))"
   ]
  },
  {
   "cell_type": "code",
   "execution_count": 6,
   "id": "bd598326",
   "metadata": {},
   "outputs": [
    {
     "data": {
      "text/plain": [
       "deque([191, 280, 50, 77, 250, 120, 200, 200, 412, 21])"
      ]
     },
     "execution_count": 6,
     "metadata": {},
     "output_type": "execute_result"
    }
   ],
   "source": [
    "cards"
   ]
  },
  {
   "cell_type": "markdown",
   "id": "3c72b4ae",
   "metadata": {},
   "source": [
    "### 틀린 코드"
   ]
  },
  {
   "cell_type": "code",
   "execution_count": 5,
   "id": "92e978b2",
   "metadata": {},
   "outputs": [
    {
     "name": "stdout",
     "output_type": "stream",
     "text": [
      "[1851]\n",
      "[1851, 1928]\n",
      "[1851, 1928, 2048]\n",
      "[1851, 1928, 2048, 2239]\n",
      "[1851, 1928, 2048, 2239, 2439]\n",
      "[1851, 1928, 2048, 2239, 2439, 2639]\n",
      "[1851, 1928, 2048, 2239, 2439, 2639, 2889]\n",
      "[1851, 1928, 2048, 2239, 2439, 2639, 2889, 3169]\n",
      "21003\n"
     ]
    }
   ],
   "source": [
    "temp = cards_[0]\n",
    "temp_list = []\n",
    "cards_ = sorted(cards)\n",
    "for i in range(1,len(cards)-1):\n",
    "    temp+= cards_[i]\n",
    "    temp_list.append(temp)\n",
    "    print(temp_list)\n",
    "print(sum(temp_list)+sum(cards_))"
   ]
  },
  {
   "cell_type": "markdown",
   "id": "45fa2c62",
   "metadata": {},
   "source": [
    "### 고친 코드"
   ]
  },
  {
   "cell_type": "code",
   "execution_count": 7,
   "id": "d610f5fb",
   "metadata": {},
   "outputs": [
    {
     "name": "stdout",
     "output_type": "stream",
     "text": [
      "5478\n"
     ]
    }
   ],
   "source": [
    "result = 0\n",
    "cards_ = sorted(cards)\n",
    "for i in range(1,len(cards)):\n",
    "    cards_ = sorted(cards_)\n",
    "    a = cards_.pop(0)\n",
    "    b = cards_.pop(0)\n",
    "    add = a+b\n",
    "    result += add\n",
    "    cards_.append(add)\n",
    "    \n",
    "print(result)"
   ]
  },
  {
   "cell_type": "code",
   "execution_count": 8,
   "id": "a2786100",
   "metadata": {},
   "outputs": [],
   "source": [
    "import heapq"
   ]
  },
  {
   "cell_type": "code",
   "execution_count": 9,
   "id": "b5d23141",
   "metadata": {},
   "outputs": [
    {
     "ename": "TypeError",
     "evalue": "'module' object is not callable",
     "output_type": "error",
     "traceback": [
      "\u001b[0;31m\u001b[0m",
      "\u001b[0;31mTypeError\u001b[0mTraceback (most recent call last)",
      "Input \u001b[0;32mIn [9]\u001b[0m, in \u001b[0;36m<cell line: 1>\u001b[0;34m()\u001b[0m\n\u001b[0;32m----> 1\u001b[0m \u001b[43mheapq\u001b[49m\u001b[43m(\u001b[49m\u001b[43m)\u001b[49m\n",
      "\u001b[0;31mTypeError\u001b[0m: 'module' object is not callable"
     ]
    }
   ],
   "source": [
    "heapq()"
   ]
  },
  {
   "cell_type": "code",
   "execution_count": null,
   "id": "bae7be24",
   "metadata": {},
   "outputs": [],
   "source": []
  },
  {
   "cell_type": "code",
   "execution_count": null,
   "id": "f8b93138",
   "metadata": {},
   "outputs": [],
   "source": []
  },
  {
   "cell_type": "code",
   "execution_count": 10,
   "id": "0a2d39e0",
   "metadata": {},
   "outputs": [
    {
     "name": "stdout",
     "output_type": "stream",
     "text": [
      "5478\n"
     ]
    }
   ],
   "source": [
    "result = 0\n",
    "cards_ = sorted(cards)\n",
    "for i in range(1,len(cards)):\n",
    "    a = heapq.heappop(cards_)\n",
    "    b = heapq.heappop(cards_)\n",
    "    add = a+b\n",
    "    result += add\n",
    "    cards_.append(add)\n",
    "    \n",
    "print(result)"
   ]
  },
  {
   "cell_type": "code",
   "execution_count": null,
   "id": "8374c23f",
   "metadata": {},
   "outputs": [],
   "source": []
  },
  {
   "cell_type": "markdown",
   "id": "a46dbe94",
   "metadata": {},
   "source": [
    "### 힙 정렬을 이용해서 구함\n",
    "- heapq.heappush( ) : 힙에서 원소를 삽입할 때(맨 끝에 삽입)\n",
    "- heapq.heappop( ) : 힙에서 원소를 꺼낼 때 항상 가장 작은 원소를 꺼내게 된다. "
   ]
  },
  {
   "cell_type": "code",
   "execution_count": 3,
   "id": "feaad1f9",
   "metadata": {},
   "outputs": [
    {
     "name": "stdout",
     "output_type": "stream",
     "text": [
      "10\n",
      "191\n",
      "280\n",
      "50\n",
      "77\n",
      "250\n",
      "120\n",
      "200\n",
      "200\n",
      "412\n",
      "21\n",
      "5478\n"
     ]
    }
   ],
   "source": [
    "from collections import deque\n",
    "import heapq\n",
    "\n",
    "n = int(input())\n",
    "cards = deque()\n",
    "for i in range(n):\n",
    "    cards.append(int(input()))\n",
    "\n",
    "result = 0\n",
    "cards_ = sorted(cards)\n",
    "for i in range(1,len(cards)):\n",
    "    a = heapq.heappop(cards_)\n",
    "    b = heapq.heappop(cards_)\n",
    "    add = a+b\n",
    "    result += add\n",
    "    cards_.append(add)\n",
    "    \n",
    "print(result)"
   ]
  },
  {
   "cell_type": "code",
   "execution_count": null,
   "id": "19ae9284",
   "metadata": {},
   "outputs": [],
   "source": []
  },
  {
   "cell_type": "markdown",
   "id": "2cd60a5b",
   "metadata": {},
   "source": [
    "### 최대힙 구현 방법\n",
    "- 파이썬 heapq은 최대 힙을 제공 하지 않기 때문에 다음과 같이 -를 추가하는 방식을 채택"
   ]
  },
  {
   "cell_type": "code",
   "execution_count": null,
   "id": "04881014",
   "metadata": {},
   "outputs": [],
   "source": []
  }
 ],
 "metadata": {
  "kernelspec": {
   "display_name": "Python 3",
   "language": "python",
   "name": "python3"
  },
  "language_info": {
   "codemirror_mode": {
    "name": "ipython",
    "version": 3
   },
   "file_extension": ".py",
   "mimetype": "text/x-python",
   "name": "python",
   "nbconvert_exporter": "python",
   "pygments_lexer": "ipython3",
   "version": "3.8.10"
  }
 },
 "nbformat": 4,
 "nbformat_minor": 5
}
