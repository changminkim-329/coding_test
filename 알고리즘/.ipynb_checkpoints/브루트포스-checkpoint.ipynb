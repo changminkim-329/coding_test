{
 "cells": [
  {
   "cell_type": "markdown",
   "id": "1c202015",
   "metadata": {},
   "source": [
    "# 브루트 포스(Brute Force)\n",
    "- brute: 무식한, fore:힘 -> 무식한 힘으로 해석 할 수 있음.\n",
    "- 복잡한 알고리즘을 굳이 생각하지않고, 컴퓨터의 빠른 연산력을 이용해 모든 경우를 다 살펴보는 것을 의미\n",
    "- **완전탐색 알고리즘**이라고도 불림.\n",
    "- 가능한 모든 경우의 수를 모두 탐색하면서 요구 조건에 충족되는 결과만을 가져온다.\n",
    "- 이 알고리즘의 강력한 점은 예외 없이 100%의 확률로 정답만을 출력.\n",
    "- 하짐만 모든 경우를 탐색하기 때문에 속도가 느리다. \n",
    "\n",
    "- 선형 구조를 전체적으로 탐색하는 **순차탐색** 과 비선형 구조를 전체적으로 탐색하는 **깊이 우선 탐색(DFS,Depth First Search)**과 **너비우선탐색(BFS, Breadth First Search)** 으로 나뉨"
   ]
  },
  {
   "cell_type": "markdown",
   "id": "8344c565",
   "metadata": {},
   "source": [
    "### 예제 : 10의 약수의 합을 구하기\n",
    "- 10의 약수가 될수 있는 모든 자연수를 구조화 : {1,2,3,4,5,6,7,8,9,10}\n",
    "- 구조화 된 자료가 선형 구조이므로 **순차탐색**을 활용하여 첫 번쨰 원소부터 마지막 원소까지 탐색.\n",
    "- 탐색하면서 10의 약수가 되는 값만 남겨두고 10의 약수가 될 수 없는 값을 배제."
   ]
  },
  {
   "cell_type": "code",
   "execution_count": 2,
   "id": "0685d565",
   "metadata": {},
   "outputs": [
    {
     "name": "stdout",
     "output_type": "stream",
     "text": [
      "[1, 2, 5, 10]\n",
      "18\n"
     ]
    }
   ],
   "source": [
    "divider = []\n",
    "for i in range(1,10+1,1):\n",
    "    if 10%i == 0:\n",
    "        divider.append(i)\n",
    "        \n",
    "print(divider)\n",
    "print(sum(divider))"
   ]
  },
  {
   "cell_type": "markdown",
   "id": "33b4d0d6",
   "metadata": {},
   "source": [
    "### 예제: N개의 숫자를 입력받아 이 중 임의의 3개의 수를 골랐을 때, 세 수의 합이 S인 모든 경우의 수를 구하여라.\n",
    "- 입력은 첫째줄에 공백을 기준으로 순서대로 N과 S가 주어진다.(3 ≤ N ≤ 20, |S| ≤ 1,000,000)\n",
    "- 두번째줄에는 N개의 정수가 공백을 기준으로 주어지며, 각 정수의 절대값은 1,000,000을 넘지 않는다.(제한시간1초)"
   ]
  },
  {
   "cell_type": "markdown",
   "id": "73b10d3b",
   "metadata": {},
   "source": [
    "#### 예시\n",
    "입력: <br>\n",
    "10 0 <br>\n",
    "1 2 3 -3 -2 -1 10 11 -21 40 <br>\n",
    "\n",
    "출력 <br> \n",
    "3"
   ]
  },
  {
   "cell_type": "markdown",
   "id": "c9b4c4a2",
   "metadata": {},
   "source": [
    "복잡하게 생각할 것 없이 모든 경우의 수를 살펴보는 방법을 생각해보겠습니다. 우선 모든 경우를 판단했을 때 적당한 시간 내에 프로그램이 돌아갈지 확인하겠습니다. n개의 숫자 중 3개를 순서와 상관없이 고르면 되므로, 순열(permutation) nPr에서 r이 3인 경우를 구하면 됩니다"
   ]
  },
  {
   "cell_type": "code",
   "execution_count": 3,
   "id": "882670f7",
   "metadata": {},
   "outputs": [
    {
     "name": "stdout",
     "output_type": "stream",
     "text": [
      "10 0\n",
      "1 2 3 -3 -2 -1 10 11 -21 40\n",
      "3\n"
     ]
    }
   ],
   "source": [
    "n, s= map(int,input().split())\n",
    "x = list(map(int,input().split()))\n",
    "answer_total = 0\n",
    "for i in range(n-2):\n",
    "    for j in range(i+1,n-1):\n",
    "        for v in range(j+1,n):\n",
    "            answer = x[i] + x[j] + x[v]\n",
    "            if answer == s:\n",
    "                answer_total += 1\n",
    "\n",
    "print(answer_total)"
   ]
  },
  {
   "cell_type": "markdown",
   "id": "84143b98",
   "metadata": {},
   "source": [
    "단순히 모든 경우를 보는것도 하나의 알고리즘이라 할 수 있습니다. 결국 알고리즘으로 치자면 가장 쉬운 알고리즘이나, 활용 방법에 따라 최고의 효율을 보여줄 수 있는게 brute force 입니다. 컴퓨터로 어차피 적정한 시간내에 처리될 만한 수준의 데이터라면, 복잡하게 시간들여 생각할 것 없이 그냥 다 보면 되니까요!"
   ]
  },
  {
   "cell_type": "code",
   "execution_count": null,
   "id": "cf9c083d",
   "metadata": {},
   "outputs": [],
   "source": [
    "가장 좋은 방법은 모든 경우를 탐색하면서 각 경우에서 쓸데 없는 연산을 하지 않는 것이다."
   ]
  },
  {
   "cell_type": "markdown",
   "id": "d0592a31",
   "metadata": {},
   "source": [
    "### Hard"
   ]
  },
  {
   "cell_type": "code",
   "execution_count": null,
   "id": "6d42571f",
   "metadata": {},
   "outputs": [],
   "source": [
    "n, r, s= map(int,input().split())\n",
    "x = list(map(int,input().split()))\n",
    "\n",
    "answer_total = 0"
   ]
  },
  {
   "cell_type": "code",
   "execution_count": null,
   "id": "d2d6a03d",
   "metadata": {},
   "outputs": [],
   "source": []
  },
  {
   "cell_type": "code",
   "execution_count": null,
   "id": "a5a3c3c4",
   "metadata": {},
   "outputs": [],
   "source": []
  },
  {
   "cell_type": "code",
   "execution_count": 12,
   "id": "709c2c83",
   "metadata": {},
   "outputs": [
    {
     "name": "stdout",
     "output_type": "stream",
     "text": [
      "216\n",
      "198\n"
     ]
    }
   ],
   "source": [
    "n = int(input())\n",
    "\n",
    "\n",
    "for i in range(0,n):\n",
    "    score = i + sum(list(map(int,str(i))))\n",
    "    \n",
    "    if score == n:\n",
    "        score = i\n",
    "        break\n",
    "    else:\n",
    "        score =0\n",
    "\n",
    "print(score)"
   ]
  },
  {
   "cell_type": "code",
   "execution_count": 17,
   "id": "e9c205e3",
   "metadata": {
    "scrolled": false
   },
   "outputs": [
    {
     "name": "stdout",
     "output_type": "stream",
     "text": [
      "5\n",
      "55 185\n",
      "58 183\n",
      "88 186\n",
      "60 175\n",
      "46 155\n",
      "[2, 2, 1, 2, 5]\n"
     ]
    }
   ],
   "source": [
    "n = int(input())\n",
    "person_list = []\n",
    "for i in range(n):\n",
    "    person_list.append(list(map(int,input().split())))\n",
    "    \n",
    "score_list = []\n",
    "for i in range(n):\n",
    "    score = 1\n",
    "    for j in range(n):\n",
    "        if i == j:\n",
    "            continue\n",
    "            \n",
    "        else:\n",
    "            a = person_list[i]\n",
    "            b = person_list[j]\n",
    "            \n",
    "            weight_gap = a[0] < b[0]\n",
    "            height_gap = a[1] < b[1]\n",
    "            \n",
    "            check = (weight_gap and weight_gap)\n",
    "            if check :\n",
    "                score += 1\n",
    "                \n",
    "    score_list.append(score)\n",
    "    \n",
    "print(score_list)"
   ]
  },
  {
   "cell_type": "code",
   "execution_count": 18,
   "id": "3879b230",
   "metadata": {},
   "outputs": [
    {
     "name": "stdout",
     "output_type": "stream",
     "text": [
      "5\n",
      "55 185\n",
      "58 183\n",
      "88 186\n",
      "60 175\n",
      "46 155\n",
      "2 2 1 2 5 "
     ]
    }
   ],
   "source": [
    "N = int(input()) #전체 사람 수\n",
    "people = [] #사람 정보를 받을 list\n",
    "\n",
    "for _ in range(N): #입력한 순서대로 정보를 입력받는다.\n",
    "    x, y = map(int, input().split())\n",
    "    people.append((x,y))\n",
    "\n",
    "for i in people:\n",
    "    rank = 1 #초기값은 전부 1\n",
    "    for j in people:\n",
    "        if (i[0] <= j[0] and i[1] <= j[1]) and : #조건\n",
    "            rank+=1 #조건 만족 시 count up\n",
    "    print(rank, end = \" \") #바로 출력"
   ]
  },
  {
   "cell_type": "markdown",
   "id": "bc2b2b36",
   "metadata": {},
   "source": [
    "조건문 -> 즉 논리력이 좀 딸리네"
   ]
  },
  {
   "cell_type": "code",
   "execution_count": null,
   "id": "95e494fc",
   "metadata": {},
   "outputs": [],
   "source": []
  },
  {
   "cell_type": "code",
   "execution_count": null,
   "id": "b3cbae2e",
   "metadata": {},
   "outputs": [],
   "source": [
    "55 185\n",
    "58 183\n",
    "88 186\n",
    "60 175\n",
    "46 155"
   ]
  }
 ],
 "metadata": {
  "kernelspec": {
   "display_name": "Python 3",
   "language": "python",
   "name": "python3"
  },
  "language_info": {
   "codemirror_mode": {
    "name": "ipython",
    "version": 3
   },
   "file_extension": ".py",
   "mimetype": "text/x-python",
   "name": "python",
   "nbconvert_exporter": "python",
   "pygments_lexer": "ipython3",
   "version": "3.8.10"
  }
 },
 "nbformat": 4,
 "nbformat_minor": 5
}
