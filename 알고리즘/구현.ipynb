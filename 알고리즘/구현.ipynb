{
 "cells": [
  {
   "cell_type": "markdown",
   "id": "554f7deb",
   "metadata": {},
   "source": [
    "# 구현"
   ]
  },
  {
   "cell_type": "markdown",
   "id": "45b5a02b",
   "metadata": {},
   "source": [
    "단순하게 짜도 된다.(굳이 코드를 이쁘게 짤 필요는 없다.)"
   ]
  },
  {
   "cell_type": "code",
   "execution_count": 27,
   "id": "259aa61a",
   "metadata": {},
   "outputs": [
    {
     "name": "stdout",
     "output_type": "stream",
     "text": [
      "5\n",
      "R R R U D D\n"
     ]
    }
   ],
   "source": [
    "n = int(input())\n",
    "p_list = input().split()"
   ]
  },
  {
   "cell_type": "code",
   "execution_count": 28,
   "id": "9881eb96",
   "metadata": {},
   "outputs": [
    {
     "name": "stdout",
     "output_type": "stream",
     "text": [
      "[3, 4]\n"
     ]
    }
   ],
   "source": [
    "p = [1,1]\n",
    "for i in p_list:\n",
    "    if i == 'L' :\n",
    "        p[1] -=1\n",
    "        if p[1] < 1:\n",
    "            p[1] = 1\n",
    "    if i == 'R' :\n",
    "        p[1] +=1\n",
    "        if p[1] > n:\n",
    "            p[1] = n\n",
    "    if i == 'U' :\n",
    "        p[0] -=1\n",
    "        if p[0] < 1:\n",
    "            p[0] = 1\n",
    "    if i == 'D' :\n",
    "        p[0] +=1\n",
    "        if p[0] > n:\n",
    "            p[0] = n\n",
    "\n",
    "print(p)"
   ]
  },
  {
   "cell_type": "code",
   "execution_count": 32,
   "id": "bdfb376b",
   "metadata": {},
   "outputs": [],
   "source": [
    "a = 1\n",
    "a = a if a-1 != 0 else 1"
   ]
  },
  {
   "cell_type": "code",
   "execution_count": 30,
   "id": "614eecce",
   "metadata": {},
   "outputs": [],
   "source": [
    "move = ['L','R','U','D']\n",
    "dx = [-1,1,0,0]\n",
    "dy = [0,0,-1,1]\n",
    "p = [1,1]\n",
    "\n",
    "for i in p_list:\n",
    "    \n",
    "    p[0]+dy[move.index(i)] [1]+dx[move.index(i)]"
   ]
  },
  {
   "cell_type": "code",
   "execution_count": null,
   "id": "29fb3744",
   "metadata": {},
   "outputs": [],
   "source": []
  },
  {
   "cell_type": "markdown",
   "id": "c5e18935",
   "metadata": {},
   "source": [
    "<h3 style='color:red;'>예제) 시각</h3>\n",
    "\n",
    "- 해당 문제는 **브루스 포스**를 사용해서 푸는 문제 이다."
   ]
  },
  {
   "cell_type": "code",
   "execution_count": 9,
   "id": "65d277ff",
   "metadata": {
    "scrolled": true
   },
   "outputs": [
    {
     "name": "stdout",
     "output_type": "stream",
     "text": [
      "5\n"
     ]
    }
   ],
   "source": [
    "n = int(input())"
   ]
  },
  {
   "cell_type": "code",
   "execution_count": 19,
   "id": "f8740e55",
   "metadata": {},
   "outputs": [
    {
     "name": "stdout",
     "output_type": "stream",
     "text": [
      "11475\n"
     ]
    }
   ],
   "source": [
    "total = 0 \n",
    "for i in range(n+1):\n",
    "    for j in range(60):\n",
    "        for v in range(60):\n",
    "            s = str(i)+str(j)+str(v)\n",
    "            if '3' in list(s) :\n",
    "                total += 1\n",
    "print(total)"
   ]
  },
  {
   "cell_type": "code",
   "execution_count": null,
   "id": "f551b22e",
   "metadata": {},
   "outputs": [],
   "source": []
  },
  {
   "cell_type": "code",
   "execution_count": 21,
   "id": "777a5783",
   "metadata": {},
   "outputs": [
    {
     "name": "stdout",
     "output_type": "stream",
     "text": [
      "a1\n"
     ]
    }
   ],
   "source": [
    "n,m = list(input())"
   ]
  },
  {
   "cell_type": "code",
   "execution_count": 22,
   "id": "ebbc1ad7",
   "metadata": {},
   "outputs": [
    {
     "name": "stdout",
     "output_type": "stream",
     "text": [
      "2\n"
     ]
    }
   ],
   "source": [
    "n_p = {'a':1,'b':2,'c':3,'d':4,'e':5,'f':6,'g':7,'h':8}\n",
    "p = [n_p[n],int(m)]\n",
    "p_op = [[-1,-2],[1,-2],[-2,-1],[-2,1],[-1,2],[1,2],[2,-1],[2,1]]\n",
    "\n",
    "\n",
    "count = 0 \n",
    "for i in p_op:\n",
    "    a = i[0] + p[0]\n",
    "    b = i[1] + p[1]\n",
    "\n",
    "    if (a>=1 and a<=8) and (b>=1 and b<=8):\n",
    "        count += 1\n",
    "        \n",
    "print(count)"
   ]
  },
  {
   "cell_type": "markdown",
   "id": "33cf61ea",
   "metadata": {},
   "source": [
    "**문자를 숫자로 바꾸기** 와 **리스트 요소 간 연산 방법**을 몰라서 조금 코드가 길어졌다."
   ]
  },
  {
   "cell_type": "code",
   "execution_count": 26,
   "id": "46d67259",
   "metadata": {},
   "outputs": [
    {
     "name": "stdout",
     "output_type": "stream",
     "text": [
      "2\n"
     ]
    }
   ],
   "source": [
    "p = [ord(n) - ord('a') + 1, int(m)]\n",
    "p_op = [[-1,-2],[1,-2],[-2,-1],[-2,1],[-1,2],[1,2],[2,-1],[2,1]]\n",
    "\n",
    "\n",
    "count = 0 \n",
    "for i in p_op:\n",
    "    a,b = [x + y for x, y in zip(i,p)]\n",
    "\n",
    "    if (a>=1 and a<=8) and (b>=1 and b<=8):\n",
    "        count += 1\n",
    "        \n",
    "print(count)"
   ]
  },
  {
   "cell_type": "code",
   "execution_count": null,
   "id": "0c5e4468",
   "metadata": {},
   "outputs": [],
   "source": []
  },
  {
   "cell_type": "markdown",
   "id": "c584982d",
   "metadata": {},
   "source": [
    "<h3 style='color:red;'>예제) 게임 개발</h3>\n",
    "\n",
    "- 예상 풀이 시간 : 40분\n",
    "- 걸린 시간: 50분"
   ]
  },
  {
   "cell_type": "code",
   "execution_count": 103,
   "id": "f9aa24d1",
   "metadata": {},
   "outputs": [
    {
     "name": "stdout",
     "output_type": "stream",
     "text": [
      "3 3\n",
      "1 1 0\n",
      "1 1 1\n",
      "1 0 0\n",
      "1 1 0\n"
     ]
    }
   ],
   "source": [
    "n,m = map(int,input().split())\n",
    "a,b,d = map(int,input().split())\n",
    "area = []\n",
    "for i in range(n):\n",
    "    area.append(list(map(int,input().split())))"
   ]
  },
  {
   "cell_type": "code",
   "execution_count": 104,
   "id": "b210ab3e",
   "metadata": {},
   "outputs": [
    {
     "data": {
      "text/plain": [
       "(1, 1, 0)"
      ]
     },
     "execution_count": 104,
     "metadata": {},
     "output_type": "execute_result"
    }
   ],
   "source": [
    "a,b,d"
   ]
  },
  {
   "cell_type": "code",
   "execution_count": 105,
   "id": "09c213bc",
   "metadata": {},
   "outputs": [
    {
     "data": {
      "text/plain": [
       "[[1, 1, 1], [1, 0, 0], [1, 1, 0]]"
      ]
     },
     "execution_count": 105,
     "metadata": {},
     "output_type": "execute_result"
    }
   ],
   "source": [
    "area"
   ]
  },
  {
   "cell_type": "code",
   "execution_count": 106,
   "id": "d57c604f",
   "metadata": {},
   "outputs": [
    {
     "ename": "IndexError",
     "evalue": "list index out of range",
     "output_type": "error",
     "traceback": [
      "\u001b[0;31m\u001b[0m",
      "\u001b[0;31mIndexError\u001b[0mTraceback (most recent call last)",
      "Input \u001b[0;32mIn [106]\u001b[0m, in \u001b[0;36m<cell line: 6>\u001b[0;34m()\u001b[0m\n\u001b[1;32m      6\u001b[0m d \u001b[38;5;241m=\u001b[39m d\u001b[38;5;241m-\u001b[39m\u001b[38;5;241m1\u001b[39m \u001b[38;5;28;01mif\u001b[39;00m (d \u001b[38;5;241m-\u001b[39m \u001b[38;5;241m1\u001b[39m) \u001b[38;5;241m!=\u001b[39m \u001b[38;5;241m-\u001b[39m\u001b[38;5;241m1\u001b[39m \u001b[38;5;28;01melse\u001b[39;00m \u001b[38;5;241m3\u001b[39m \n\u001b[1;32m      7\u001b[0m check \u001b[38;5;241m=\u001b[39m [ x\u001b[38;5;241m+\u001b[39my \u001b[38;5;28;01mfor\u001b[39;00m x,y \u001b[38;5;129;01min\u001b[39;00m \u001b[38;5;28mzip\u001b[39m([a,b],t_[d])]\n\u001b[0;32m----> 9\u001b[0m \u001b[38;5;28;01mif\u001b[39;00m \u001b[43marea\u001b[49m\u001b[43m[\u001b[49m\u001b[43mcheck\u001b[49m\u001b[43m[\u001b[49m\u001b[38;5;241;43m0\u001b[39;49m\u001b[43m]\u001b[49m\u001b[43m]\u001b[49m\u001b[43m[\u001b[49m\u001b[43mcheck\u001b[49m\u001b[43m[\u001b[49m\u001b[38;5;241;43m1\u001b[39;49m\u001b[43m]\u001b[49m\u001b[43m]\u001b[49m \u001b[38;5;241m!=\u001b[39m \u001b[38;5;241m1\u001b[39m:\n\u001b[1;32m     10\u001b[0m     \u001b[38;5;28;01mif\u001b[39;00m \u001b[38;5;129;01mnot\u001b[39;00m check \u001b[38;5;129;01min\u001b[39;00m check_point:\n\u001b[1;32m     11\u001b[0m         a \u001b[38;5;241m=\u001b[39m check[\u001b[38;5;241m0\u001b[39m]\n",
      "\u001b[0;31mIndexError\u001b[0m: list index out of range"
     ]
    }
   ],
   "source": [
    "t_ = {0:[-1,0],1:[0,1],2:[1,0],3:[0,-1]}\n",
    "check_point = []\n",
    "check_point.append([a,b])\n",
    "limit_count = 0\n",
    "while True:\n",
    "    d = d-1 if (d - 1) != -1 else 3 \n",
    "    check = [ x+y for x,y in zip([a,b],t_[d])]\n",
    "    \n",
    "    if area[check[0]][check[1]] != 1:\n",
    "        if not check in check_point:\n",
    "            a = check[0]\n",
    "            b = check[1]\n",
    "            check_point.append(check)\n",
    "            limit_count = 0\n",
    "            continue\n",
    "    \n",
    "    limit_count += 1\n",
    "    \n",
    "    if limit_count == 4:\n",
    "        d_ = d + 2 if d + 2 <= 3 else d - 2\n",
    "        check = [ x+y for x,y in zip([a,b],t_[d_])]\n",
    "        if area[check[0]][check[1]] == 1:\n",
    "            break\n",
    "        \n",
    "        else:\n",
    "            a = check[0]\n",
    "            b = check[1]\n",
    "            limit_count = 0\n",
    "            \n",
    "print(len(check_point))"
   ]
  },
  {
   "cell_type": "code",
   "execution_count": null,
   "id": "f9de8a88",
   "metadata": {},
   "outputs": [],
   "source": []
  }
 ],
 "metadata": {
  "kernelspec": {
   "display_name": "Python 3",
   "language": "python",
   "name": "python3"
  },
  "language_info": {
   "codemirror_mode": {
    "name": "ipython",
    "version": 3
   },
   "file_extension": ".py",
   "mimetype": "text/x-python",
   "name": "python",
   "nbconvert_exporter": "python",
   "pygments_lexer": "ipython3",
   "version": "3.8.10"
  }
 },
 "nbformat": 4,
 "nbformat_minor": 5
}
