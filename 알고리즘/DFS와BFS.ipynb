{
 "cells": [
  {
   "cell_type": "markdown",
   "id": "48b6a99e",
   "metadata": {},
   "source": [
    "### 스택(Stack)\n",
    "- LIFO"
   ]
  },
  {
   "cell_type": "code",
   "execution_count": 2,
   "id": "664947c7",
   "metadata": {},
   "outputs": [
    {
     "name": "stdout",
     "output_type": "stream",
     "text": [
      "3\n",
      "2\n",
      "5\n"
     ]
    }
   ],
   "source": [
    "stack = []\n",
    "stack.append(5)\n",
    "stack.append(2)\n",
    "stack.append(3)\n",
    "print(stack.pop())\n",
    "print(stack.pop())\n",
    "print(stack.pop())"
   ]
  },
  {
   "cell_type": "code",
   "execution_count": null,
   "id": "c5706f1e",
   "metadata": {},
   "outputs": [],
   "source": []
  },
  {
   "cell_type": "markdown",
   "id": "1f151b03",
   "metadata": {},
   "source": [
    "### 큐(Queue)"
   ]
  },
  {
   "cell_type": "code",
   "execution_count": 6,
   "id": "26045b35",
   "metadata": {},
   "outputs": [
    {
     "data": {
      "text/plain": [
       "[4, 2, 7, 1]"
      ]
     },
     "execution_count": 6,
     "metadata": {},
     "output_type": "execute_result"
    }
   ],
   "source": [
    "list(reversed([1,7,2,4]))"
   ]
  },
  {
   "cell_type": "code",
   "execution_count": 11,
   "id": "dd88935a",
   "metadata": {},
   "outputs": [
    {
     "name": "stdout",
     "output_type": "stream",
     "text": [
      "deque([5, 2, 3])\n",
      "5\n",
      "2\n",
      "3\n"
     ]
    }
   ],
   "source": [
    "from collections import deque\n",
    "queue = deque()\n",
    "queue.append(5)\n",
    "queue.append(2)\n",
    "queue.append(3)\n",
    "print(queue)\n",
    "print(queue.popleft())\n",
    "print(queue.popleft())\n",
    "print(queue.popleft())"
   ]
  },
  {
   "cell_type": "code",
   "execution_count": 12,
   "id": "dbcec0d3",
   "metadata": {},
   "outputs": [
    {
     "data": {
      "text/plain": [
       "2"
      ]
     },
     "execution_count": 12,
     "metadata": {},
     "output_type": "execute_result"
    }
   ],
   "source": [
    "[1,7,7,1].count(1)"
   ]
  },
  {
   "cell_type": "code",
   "execution_count": null,
   "id": "c196f833",
   "metadata": {},
   "outputs": [],
   "source": []
  },
  {
   "cell_type": "markdown",
   "id": "badd9962",
   "metadata": {},
   "source": [
    "### 재귀함수\n",
    "- 자기 자신을 다시 호출하는 함수.\n",
    "- stack 방식으로 종료 된다.(함수 자체가 스택이기 때문)"
   ]
  },
  {
   "cell_type": "markdown",
   "id": "4e42216d",
   "metadata": {},
   "source": [
    "#### ex) 팩토리얼"
   ]
  },
  {
   "cell_type": "code",
   "execution_count": 16,
   "id": "65894afd",
   "metadata": {},
   "outputs": [],
   "source": [
    "def factorial(n):\n",
    "    if n <= 1:\n",
    "        return n\n",
    "    a = n * factorial(n-1)\n",
    "    return a"
   ]
  },
  {
   "cell_type": "code",
   "execution_count": 17,
   "id": "e1156b7f",
   "metadata": {},
   "outputs": [
    {
     "data": {
      "text/plain": [
       "120"
      ]
     },
     "execution_count": 17,
     "metadata": {},
     "output_type": "execute_result"
    }
   ],
   "source": [
    "factorial(5)"
   ]
  },
  {
   "cell_type": "code",
   "execution_count": null,
   "id": "40869dd7",
   "metadata": {},
   "outputs": [],
   "source": []
  },
  {
   "cell_type": "markdown",
   "id": "af74bc02",
   "metadata": {},
   "source": [
    "## DFS 와 BFS\n",
    "### DFS(Depth-First-Search)\n",
    "- 깊이 우선 탐색\n",
    "- 그래프에서 깊은 부분을 우선적으로 탐색하는 알고리즘\n",
    "\n",
    "### BFS(Breadth First Search)\n",
    "- 너비 우선 탐색\n",
    "- 가까운 노드부터 탐색하는 알고리즘."
   ]
  },
  {
   "cell_type": "code",
   "execution_count": null,
   "id": "5ef09a29",
   "metadata": {},
   "outputs": [],
   "source": []
  },
  {
   "cell_type": "markdown",
   "id": "2944e444",
   "metadata": {},
   "source": [
    "### 그래프\n",
    "<img src='https://velog.velcdn.com/images%2Ffalling_star3%2Fpost%2Ffc2c8376-09c3-43da-a2d1-3caf677f4996%2F1231.JPG' width='300px'></img>\n",
    "- 노드, 간선\n",
    "\n",
    "### 프로그래밍에서 그래프 표현 방법\n",
    "- 인접행렬: 2차원 배열로 그래프의 연결 관계를 표현\n",
    "- 인접 리스트: 리스트로 그래프의 연결 관계를 표현하는 방식\n",
    "\n",
    "#### 인접행렬 VS 인접 리스트\n",
    "- 메모리 효율: 인접 리스트 > 인접 행렬\n",
    "- 속도: 인접 행렬 > 인접 리스트"
   ]
  },
  {
   "cell_type": "markdown",
   "id": "ea19696f",
   "metadata": {},
   "source": [
    "#### 인접행렬 방식\n",
    "![](https://miro.medium.com/max/500/1*ez-nTJaiuFjL51Q10Vakgg.png)"
   ]
  },
  {
   "cell_type": "code",
   "execution_count": 20,
   "id": "f544836f",
   "metadata": {},
   "outputs": [],
   "source": [
    "INF = 99999999\n",
    "\n",
    "graph = [\n",
    "    [0,3,6],\n",
    "    [3,0,INF],\n",
    "    [6,INF,0]\n",
    "]"
   ]
  },
  {
   "cell_type": "code",
   "execution_count": 21,
   "id": "456a0e1e",
   "metadata": {},
   "outputs": [
    {
     "name": "stdout",
     "output_type": "stream",
     "text": [
      "[[0, 3, 6], [3, 0, 99999999], [6, 99999999, 0]]\n"
     ]
    }
   ],
   "source": [
    "print(graph)"
   ]
  },
  {
   "cell_type": "markdown",
   "id": "3c0fc751",
   "metadata": {},
   "source": [
    "#### 인접리스트 방식\n",
    "![](https://i.imgur.com/TyIs2Av.png)"
   ]
  },
  {
   "cell_type": "code",
   "execution_count": 23,
   "id": "b2a0cfb2",
   "metadata": {},
   "outputs": [],
   "source": [
    "graph = [[] for _ in range(4)]\n",
    "\n",
    "# 노드 0\n",
    "graph[0].append((1,8))\n",
    "graph[0].append((3,6))\n",
    "\n",
    "# 노드 1\n",
    "graph[1].append((0,8))\n",
    "graph[1].append((2,9))\n",
    "\n",
    "# 노드 2\n",
    "graph[2].append((2,9))\n",
    "\n",
    "# 노드 3\n",
    "graph[3].append((0,6))"
   ]
  },
  {
   "cell_type": "code",
   "execution_count": 24,
   "id": "4ac7dc33",
   "metadata": {},
   "outputs": [
    {
     "name": "stdout",
     "output_type": "stream",
     "text": [
      "[[(1, 8), (3, 6)], [(0, 8), (2, 9)], [(2, 9)], [(0, 6)]]\n"
     ]
    }
   ],
   "source": [
    "print(graph)"
   ]
  },
  {
   "cell_type": "code",
   "execution_count": null,
   "id": "2ab54357",
   "metadata": {},
   "outputs": [],
   "source": []
  },
  {
   "cell_type": "markdown",
   "id": "ec2ec59e",
   "metadata": {},
   "source": [
    "### DFS 구현"
   ]
  },
  {
   "cell_type": "code",
   "execution_count": 30,
   "id": "d32afd1b",
   "metadata": {},
   "outputs": [],
   "source": [
    "graph = [\n",
    "    [],\n",
    "    [2,3,8],\n",
    "    [1,7],\n",
    "    [1,4,5],\n",
    "    [3,5],\n",
    "    [3,4],\n",
    "    [7],\n",
    "    [2,6,8],\n",
    "    [1,7]\n",
    "]"
   ]
  },
  {
   "cell_type": "code",
   "execution_count": 31,
   "id": "7fc0e378",
   "metadata": {},
   "outputs": [],
   "source": [
    "visted = [False]*9"
   ]
  },
  {
   "cell_type": "code",
   "execution_count": 32,
   "id": "22cdeb82",
   "metadata": {},
   "outputs": [
    {
     "data": {
      "text/plain": [
       "[False, False, False, False, False, False, False, False, False]"
      ]
     },
     "execution_count": 32,
     "metadata": {},
     "output_type": "execute_result"
    }
   ],
   "source": [
    "visted"
   ]
  },
  {
   "cell_type": "code",
   "execution_count": 33,
   "id": "128376c9",
   "metadata": {},
   "outputs": [],
   "source": [
    "def dfs(graph, v, visited):\n",
    "    visited[v] = True\n",
    "    print(v,end=' ')\n",
    "    for i in graph[v]:\n",
    "        if not visited[i]:\n",
    "            dfs(graph, i, visited)"
   ]
  },
  {
   "cell_type": "code",
   "execution_count": 34,
   "id": "423d449d",
   "metadata": {},
   "outputs": [
    {
     "name": "stdout",
     "output_type": "stream",
     "text": [
      "1 2 7 6 8 3 4 5 "
     ]
    }
   ],
   "source": [
    "dfs(graph,1,visted)"
   ]
  },
  {
   "cell_type": "code",
   "execution_count": null,
   "id": "170448bf",
   "metadata": {},
   "outputs": [],
   "source": []
  },
  {
   "cell_type": "markdown",
   "id": "f2151f04",
   "metadata": {},
   "source": []
  },
  {
   "cell_type": "markdown",
   "id": "20e5288c",
   "metadata": {},
   "source": [
    "### BFS 구현"
   ]
  },
  {
   "cell_type": "code",
   "execution_count": 88,
   "id": "ab5d0130",
   "metadata": {},
   "outputs": [],
   "source": [
    "graph = [\n",
    "    [],\n",
    "    [2,3,8],\n",
    "    [1,7],\n",
    "    [1,4,5],\n",
    "    [3,5],\n",
    "    [3,4],\n",
    "    [7],\n",
    "    [2,6,8],\n",
    "    [1,7]\n",
    "]"
   ]
  },
  {
   "cell_type": "code",
   "execution_count": 89,
   "id": "51d84ed6",
   "metadata": {},
   "outputs": [],
   "source": [
    "visted = [False]*9"
   ]
  },
  {
   "cell_type": "code",
   "execution_count": 90,
   "id": "1033022a",
   "metadata": {},
   "outputs": [],
   "source": [
    "from collections import deque\n",
    "def bfs(graph, v, visited):\n",
    "    queue = deque()\n",
    "    \n",
    "    queue.append(v)\n",
    "    while True:\n",
    "        v = queue.popleft()\n",
    "        print(v, end=' ')\n",
    "        visited[v] = True\n",
    "\n",
    "        for i in graph[v]:\n",
    "            if not visited[i]:\n",
    "                if not i in queue:\n",
    "                    queue.append(i)\n",
    "                \n",
    "        \n",
    "        if len(queue) <= 0:\n",
    "            break"
   ]
  },
  {
   "cell_type": "code",
   "execution_count": 91,
   "id": "9654f6ed",
   "metadata": {},
   "outputs": [
    {
     "name": "stdout",
     "output_type": "stream",
     "text": [
      "1 2 3 8 7 4 5 6 "
     ]
    }
   ],
   "source": [
    "bfs(graph,1,visted)"
   ]
  },
  {
   "cell_type": "code",
   "execution_count": null,
   "id": "d48e42fc",
   "metadata": {},
   "outputs": [],
   "source": []
  },
  {
   "cell_type": "markdown",
   "id": "2781f540",
   "metadata": {},
   "source": [
    "<h3 style='color:red;'>예제) 음료수 얼려 먹기</h3>"
   ]
  },
  {
   "cell_type": "code",
   "execution_count": 10,
   "id": "ddaf7735",
   "metadata": {},
   "outputs": [],
   "source": [
    "from collections import deque"
   ]
  },
  {
   "cell_type": "code",
   "execution_count": 79,
   "id": "1d63cb8d",
   "metadata": {},
   "outputs": [
    {
     "name": "stdout",
     "output_type": "stream",
     "text": [
      "15 14\n",
      "00000111100000\n",
      "11111101111110\n",
      "11011101101110\n",
      "11011101100000\n",
      "11011111111111\n",
      "11011111111100\n",
      "11000000011111\n",
      "01111111111111\n",
      "00000000011111\n",
      "01111111111000\n",
      "00011111111000\n",
      "00000001111000\n",
      "11111111110011\n",
      "11100011111111\n",
      "11100011111111\n"
     ]
    }
   ],
   "source": [
    "n,m = map(int,input().split())\n",
    "plate = []\n",
    "for i in range(n):\n",
    "    plate.append(list(map(int,list(input()))))"
   ]
  },
  {
   "cell_type": "code",
   "execution_count": 90,
   "id": "65abb49c",
   "metadata": {},
   "outputs": [],
   "source": [
    "def function(plate,n,m):\n",
    "    move = [[0,1],[1,0],[0,-1],[-1,0]]\n",
    "    queue = deque()\n",
    "    check = []\n",
    "    \n",
    "    count = 0\n",
    "    for i in range(n):\n",
    "        for j in range(m):\n",
    "            if (plate[i][j] == 0) and (not [i,j] in check):\n",
    "                queue.append([i,j])\n",
    "                check.append([i,j])\n",
    "                while True:\n",
    "                    if len(queue) == 0:\n",
    "                        count += 1\n",
    "                        break\n",
    "                        \n",
    "                    p = queue.popleft()\n",
    "                    for v in move:\n",
    "                        p_ = list((a+b for a,b in zip(p,v)))\n",
    "                        \n",
    "                        try:\n",
    "                            if not -1 in p_:\n",
    "                                if plate[p_[0]][p_[1]] == 0:\n",
    "                                    if not p_ in check:\n",
    "                                        queue.append(p_)\n",
    "                                        check.append(p_)\n",
    "                                \n",
    "                        except Exception as e:\n",
    "                            pass\n",
    "    return count"
   ]
  },
  {
   "cell_type": "markdown",
   "id": "4932172c",
   "metadata": {},
   "source": [
    "#### 예제와 bfs 비교\n",
    "- 전반적인 구조는 같은 것을 알 수 있다."
   ]
  },
  {
   "cell_type": "code",
   "execution_count": null,
   "id": "9b476dde",
   "metadata": {},
   "outputs": [],
   "source": [
    "from collections import deque\n",
    "def bfs(graph, v, visited):\n",
    "    queue = deque()\n",
    "    \n",
    "    queue.append(v)\n",
    "    while True:\n",
    "        if len(queue) <= 0:\n",
    "            break\n",
    "            \n",
    "        v = queue.popleft()\n",
    "        print(v, end=' ')\n",
    "        visited[v] = True\n",
    "\n",
    "        for i in graph[v]:\n",
    "            if not visited[i]:\n",
    "                queue.append(i)\n",
    "                "
   ]
  },
  {
   "cell_type": "code",
   "execution_count": 91,
   "id": "9b329890",
   "metadata": {},
   "outputs": [
    {
     "data": {
      "text/plain": [
       "8"
      ]
     },
     "execution_count": 91,
     "metadata": {},
     "output_type": "execute_result"
    }
   ],
   "source": [
    "function(plate,n,m)"
   ]
  },
  {
   "cell_type": "markdown",
   "id": "c2507e6a",
   "metadata": {},
   "source": [
    "#### 문제점"
   ]
  },
  {
   "cell_type": "code",
   "execution_count": null,
   "id": "6ad3307c",
   "metadata": {},
   "outputs": [],
   "source": [
    "# 검증조건 파악 잘 못함\n",
    "# 밑의 코드를 생각하지 못하고 추가하지 않음\n",
    "\n",
    "# 잘못된 예)\n",
    "if (plate[i][j] == 0)\n",
    "\n",
    "# 올바른 예)\n",
    "if (plate[i][j] == 0) and (not [i,j] in check)\n",
    "# DFS, BFS 같은 경우, 해당 위치의 값 분별 뿐만아니라,\n",
    "# 해당 위치를 전에 탐색했는지 확인해 주어야 된다.\n",
    "\n",
    "\n",
    "# 행렬 문제는 인덱스로 처리하자   \n",
    "# 잘못된 예)\n",
    "for i in plate:    \n",
    "    for j in i:      \n",
    "\n",
    "# 올바른 예)\n",
    "for i in range(n):\n",
    "    for j in range(m):\n",
    "\n",
    "        \n",
    "# 하나에 여러 자료구조를 사용하면 복잡해진다.\n",
    "[(0,1),(1,0),(0,-1),(-1,0)] -> [[0,1],[1,0],[0,-1],[-1,0]]\n",
    "# 집합 보단 리스트를 사용(하나의 자료구조만 사용하자, set만 쓸지 아니면 리스트만 쓸지)\n",
    "\n",
    "\n",
    "# 논리 순서의 오류\n",
    "# 리스크, 큐 같은 겨우 underflow가 발생하기 전에 루틴을 종료해 주어야 된다.\n",
    "# 잘못된 예)\n",
    "p = queue.popleft()\n",
    "if len(queue) == 0:\n",
    "    count += 1\n",
    "    break\n",
    "    \n",
    "# 올바른 예)\n",
    "if len(queue) == 0:\n",
    "    count += 1\n",
    "    break\n",
    "p = queue.popleft()\n",
    "\n",
    "\n",
    "# 불필요한 논리는 없애라\n",
    "# 잘못된 예)\n",
    "if not p_ in queue:\n",
    "    if not p_ in check:\n",
    "        queue.append(p_)\n",
    "        check.append(p_)\n",
    "\n",
    "# 올바른 예)\n",
    "if not p_ in check:\n",
    "    queue.append(p_)\n",
    "    check.append(p_)\n",
    "# queue, check는 동시에 값이 갱신 된다. 하지만 queue 같은 경우 매번 값을 \n",
    "# popleft 하기 때문에, 값이 사라진다. 따라서 해당 위치를 전에 탐색했는지 확인 하기 위해,\n",
    "# check만 확인하면 되지 queue를 확인할 필요는 없다."
   ]
  },
  {
   "cell_type": "markdown",
   "id": "42c5d8d3",
   "metadata": {},
   "source": [
    "#### 공략법\n",
    "- visited : 방문 기록을 남겨라\n",
    "\n",
    "- 모든 요소를 하나 씩 탐색 해라 :\n",
    "<pre>\n",
    "for i in range(행):\n",
    "    for j in range(열):\n",
    "        if graph[i][j] == 0\n",
    "</pre>\n",
    "- visited 기록으로 검증해라(다른 거 쓰지 마라)\n",
    "\n",
    "- visited 검증 이외에 다른 조건이 있다면 같이 검증해라\n",
    "<pre>\n",
    "if (plate[i][j] == 0) and (not [i,j] in check):\n",
    "</pre>\n",
    "- queue의 pop은 queue가 검증 된 다음에 해라\n",
    "<pre>\n",
    "if len(queue) == 0:\n",
    "    count += 1\n",
    "    break\n",
    "p = queue.popleft()\n",
    "</pre>"
   ]
  },
  {
   "cell_type": "code",
   "execution_count": null,
   "id": "e72662b6",
   "metadata": {},
   "outputs": [],
   "source": []
  },
  {
   "cell_type": "markdown",
   "id": "8c1f06da",
   "metadata": {},
   "source": [
    "<h3 style='color:red;'>예제) 미로 탈출</h3>"
   ]
  },
  {
   "cell_type": "code",
   "execution_count": 3,
   "id": "325d94d4",
   "metadata": {},
   "outputs": [
    {
     "name": "stdout",
     "output_type": "stream",
     "text": [
      "5 6\n",
      "101010\n",
      "111111\n",
      "000001\n",
      "111111\n",
      "111111\n"
     ]
    }
   ],
   "source": [
    "n,m = map(int,input().split())\n",
    "graph = []\n",
    "for i in range(n):\n",
    "    graph.append(list(map(int,list(input()))))"
   ]
  },
  {
   "cell_type": "code",
   "execution_count": 4,
   "id": "343da32b",
   "metadata": {},
   "outputs": [
    {
     "data": {
      "text/plain": [
       "[[1, 0, 1, 0, 1, 0],\n",
       " [1, 1, 1, 1, 1, 1],\n",
       " [0, 0, 0, 0, 0, 1],\n",
       " [1, 1, 1, 1, 1, 1],\n",
       " [1, 1, 1, 1, 1, 1]]"
      ]
     },
     "execution_count": 4,
     "metadata": {},
     "output_type": "execute_result"
    }
   ],
   "source": [
    "graph"
   ]
  },
  {
   "cell_type": "code",
   "execution_count": null,
   "id": "4d906bfc",
   "metadata": {},
   "outputs": [],
   "source": []
  },
  {
   "cell_type": "markdown",
   "id": "b4b9eb37",
   "metadata": {},
   "source": []
  },
  {
   "cell_type": "code",
   "execution_count": 7,
   "id": "f035778a",
   "metadata": {},
   "outputs": [],
   "source": [
    "v = [0,0]"
   ]
  },
  {
   "cell_type": "code",
   "execution_count": 6,
   "id": "0eff3851",
   "metadata": {},
   "outputs": [],
   "source": [
    "from collections import deque"
   ]
  },
  {
   "cell_type": "code",
   "execution_count": null,
   "id": "b3485cae",
   "metadata": {},
   "outputs": [],
   "source": [
    "def function(graph,v,n,m):\n",
    "    queue = deque()\n",
    "    visit = []\n",
    "    queue.append(v)\n",
    "    visit.append(v)\n",
    "    count += 1\n",
    "    move = [[1,0],[0,1]]\n",
    "    while True:\n",
    "        if len(v) == 0:\n",
    "            break\n",
    "        v = queue.popleft()\n",
    "        for move_ in move:\n",
    "            queue.append(v + move_)\n",
    "            \n",
    "        for i in range(len(move)):\n",
    "            v_ = [x+y for x,y in zip(v,move[i])]\n",
    "            if graph[v_[0]][v_[1]] == 1:\n",
    "                if (-1 in v_) and (v_[0] < n) and (v_[1] < m):\n",
    "                    if not v_ in visit:\n",
    "                        queue.append(v_)\n",
    "                        visit.append(v_)\n",
    "                        continue\n",
    "                "
   ]
  }
 ],
 "metadata": {
  "kernelspec": {
   "display_name": "Python 3",
   "language": "python",
   "name": "python3"
  },
  "language_info": {
   "codemirror_mode": {
    "name": "ipython",
    "version": 3
   },
   "file_extension": ".py",
   "mimetype": "text/x-python",
   "name": "python",
   "nbconvert_exporter": "python",
   "pygments_lexer": "ipython3",
   "version": "3.8.10"
  }
 },
 "nbformat": 4,
 "nbformat_minor": 5
}
