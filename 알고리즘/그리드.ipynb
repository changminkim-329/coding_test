{
 "cells": [
  {
   "cell_type": "markdown",
   "id": "b36afb7a",
   "metadata": {},
   "source": [
    "### 그리디 알고리즘의 정당성\n",
    "- 그리드 알고리즘으로 문제의 해법을 찾았을 때는 그 해법이 정당한지 검토해야 한다.\n",
    "\n",
    "#### 거스름 돈 문제\n",
    "- 거스름 돈 문제는 가장 큰 화폐 단위부터 돈을 거슬러 주는 것\n",
    "- 예를들어 가지고 있는 동전 중에서(500,100,50,10) **큰 단위가 항상 작은 단위의 배수이므로** 작은 단위의 동전들을 종합해 다른 해가 나올 수 없기 때문이다.\n",
    "- 반면 4개의 동전(500,400,100)인 경우 800원을 거슬러 주어야 할 떄 가장 큰 화폐 부터 거슬러 주면 (500,100,100,100) 인데, 최적의 해는 2개의 동전(400,400)이다."
   ]
  },
  {
   "cell_type": "markdown",
   "id": "3135ccc5",
   "metadata": {},
   "source": [
    "### 예제) 큰수의 법칙\n",
    "- 큰수의 법칙: 주어진 배열에서 주어진 수들을 M번 더하여 가장 큰 수를 만드는 법칙(단: 특정한 인덱스에 해당하는 수가 연속해서 K번 초과하면 안됨)\n",
    "- n: 배열의 크기, m: 숫자가 더해지는 횟수, k: 연속해도되는 횟수"
   ]
  },
  {
   "cell_type": "markdown",
   "id": "cfde8392",
   "metadata": {},
   "source": [
    "#### 풀이\n",
    "- 가장 큰 수와 두번째로 큰 수만 저장\n",
    "- 최대 K번이므로 '가장 큰 수를 k번 더하고 두번째로 큰 수를 한 번 더하는 연산을 반복하면 됨'"
   ]
  },
  {
   "cell_type": "code",
   "execution_count": 5,
   "id": "171f7e8c",
   "metadata": {
    "scrolled": true
   },
   "outputs": [
    {
     "name": "stdout",
     "output_type": "stream",
     "text": [
      "5 8 3\n",
      "2 4 5 4 6\n"
     ]
    }
   ],
   "source": [
    "n, m, k = map(int,input().split())\n",
    "n_list = list(map(int,input().split()))"
   ]
  },
  {
   "cell_type": "code",
   "execution_count": 9,
   "id": "14d9081a",
   "metadata": {},
   "outputs": [],
   "source": [
    "n_list_r = sorted(n_list,reverse=True)"
   ]
  },
  {
   "cell_type": "markdown",
   "id": "e9ac2582",
   "metadata": {},
   "source": [
    "**반복되는 수열에 대해서 파악해라**\n",
    "- 특정한 수열 행태로 일정하게 반복해서 더해지는 특징이 있다.\n",
    "    - 큰수+큰수+작은수, 큰수+큰수+작은수"
   ]
  },
  {
   "cell_type": "code",
   "execution_count": 13,
   "id": "61954805",
   "metadata": {},
   "outputs": [
    {
     "name": "stdout",
     "output_type": "stream",
     "text": [
      "46\n"
     ]
    }
   ],
   "source": [
    "print((m%k) * k * n_list_r[0] + (m//k) * n_list_r[1])"
   ]
  },
  {
   "cell_type": "markdown",
   "id": "6c886241",
   "metadata": {},
   "source": [
    "### ex) 숫자 카드 게임"
   ]
  },
  {
   "cell_type": "code",
   "execution_count": 26,
   "id": "f35f2d62",
   "metadata": {
    "scrolled": true
   },
   "outputs": [
    {
     "name": "stdout",
     "output_type": "stream",
     "text": [
      "2 4\n",
      "7 3 1 8\n",
      "3 3 3 4\n"
     ]
    }
   ],
   "source": [
    "n, m = map(int,input().split())\n",
    "card_list = []\n",
    "for i in range(n):\n",
    "    card_list.append(list(map(int,input().split())))"
   ]
  },
  {
   "cell_type": "code",
   "execution_count": 27,
   "id": "4b1709ce",
   "metadata": {
    "scrolled": true
   },
   "outputs": [
    {
     "name": "stdout",
     "output_type": "stream",
     "text": [
      "3\n"
     ]
    }
   ],
   "source": [
    "top_list = []\n",
    "for i in range(len(card_list)):\n",
    "    top_list.append(sorted(card_list[i])[0])\n",
    "print(max(top_list))"
   ]
  },
  {
   "cell_type": "code",
   "execution_count": 34,
   "id": "cce096df",
   "metadata": {
    "scrolled": true
   },
   "outputs": [
    {
     "data": {
      "text/plain": [
       "[[7, 3, 1, 8], [3, 3, 3, 4]]"
      ]
     },
     "execution_count": 34,
     "metadata": {},
     "output_type": "execute_result"
    }
   ],
   "source": [
    "card_list"
   ]
  },
  {
   "cell_type": "code",
   "execution_count": 42,
   "id": "216bc69c",
   "metadata": {},
   "outputs": [
    {
     "data": {
      "text/plain": [
       "[[7, 3, 1, 8], [3, 3, 3, 4]]"
      ]
     },
     "execution_count": 42,
     "metadata": {},
     "output_type": "execute_result"
    }
   ],
   "source": [
    "sorted(card_list, key=lambda x: -x[1])"
   ]
  },
  {
   "cell_type": "code",
   "execution_count": 33,
   "id": "bf850d12",
   "metadata": {
    "scrolled": true
   },
   "outputs": [
    {
     "data": {
      "text/plain": [
       "[[7, 3, 1, 8], [3, 3, 3, 4]]"
      ]
     },
     "execution_count": 33,
     "metadata": {},
     "output_type": "execute_result"
    }
   ],
   "source": [
    "sorted(card_list,key=lambda x:x[0],reverse=True)"
   ]
  },
  {
   "cell_type": "code",
   "execution_count": 48,
   "id": "7e56cf94",
   "metadata": {},
   "outputs": [
    {
     "name": "stdout",
     "output_type": "stream",
     "text": [
      "[[4, 0], [1, 2], [2, 3]]\n"
     ]
    }
   ],
   "source": [
    "arr = [[2,3],[1,2],[4,0]]\n",
    "arr.sort(key=lambda x:x[1]) # 첫번째 열 기준으로 정렬\n",
    "print(arr)"
   ]
  },
  {
   "cell_type": "code",
   "execution_count": null,
   "id": "e05fec0a",
   "metadata": {},
   "outputs": [],
   "source": []
  },
  {
   "cell_type": "markdown",
   "id": "0eab762c",
   "metadata": {},
   "source": [
    "### 예제) 1이 될때까지"
   ]
  },
  {
   "cell_type": "code",
   "execution_count": 70,
   "id": "84567f1f",
   "metadata": {},
   "outputs": [
    {
     "name": "stdout",
     "output_type": "stream",
     "text": [
      "27 3\n"
     ]
    }
   ],
   "source": [
    "n, k = map(int,input().split())"
   ]
  },
  {
   "cell_type": "code",
   "execution_count": 71,
   "id": "beeaad95",
   "metadata": {},
   "outputs": [
    {
     "name": "stdout",
     "output_type": "stream",
     "text": [
      "3\n"
     ]
    }
   ],
   "source": [
    "total = 0\n",
    "while True:\n",
    "    if n % k == 0:\n",
    "        n = n//k\n",
    "        total += 1\n",
    "        \n",
    "    else:\n",
    "        n -= 1\n",
    "        total += 1\n",
    "    \n",
    "    if n == 1:\n",
    "        break\n",
    "        \n",
    "print(total)"
   ]
  },
  {
   "cell_type": "code",
   "execution_count": null,
   "id": "fb36dbae",
   "metadata": {},
   "outputs": [],
   "source": []
  },
  {
   "cell_type": "code",
   "execution_count": null,
   "id": "966877cb",
   "metadata": {},
   "outputs": [],
   "source": []
  },
  {
   "cell_type": "code",
   "execution_count": 78,
   "id": "2eb962f0",
   "metadata": {},
   "outputs": [
    {
     "name": "stdout",
     "output_type": "stream",
     "text": [
      "5\n",
      "R R R U D D\n"
     ]
    }
   ],
   "source": [
    "n = int(input())\n",
    "p_list = input().split()"
   ]
  },
  {
   "cell_type": "code",
   "execution_count": 81,
   "id": "4716edbd",
   "metadata": {},
   "outputs": [
    {
     "name": "stdout",
     "output_type": "stream",
     "text": [
      "[3, 4]\n"
     ]
    }
   ],
   "source": [
    "p = [1,1]\n",
    "for i in p_list:\n",
    "    if i == 'L' :\n",
    "        p[1] -=1\n",
    "        if p[1] < 1:\n",
    "            p[1] = 1\n",
    "    if i == 'R' :\n",
    "        p[1] +=1\n",
    "        if p[1] > n:\n",
    "            p[1] = n\n",
    "    if i == 'U' :\n",
    "        p[0] -=1\n",
    "        if p[0] < 1:\n",
    "            p[0] = 1\n",
    "    if i == 'D' :\n",
    "        p[0] +=1\n",
    "        if p[0] > n:\n",
    "            p[0] = n\n",
    "\n",
    "print(p)"
   ]
  },
  {
   "cell_type": "code",
   "execution_count": null,
   "id": "5c2e6a57",
   "metadata": {},
   "outputs": [],
   "source": []
  }
 ],
 "metadata": {
  "kernelspec": {
   "display_name": "Python 3",
   "language": "python",
   "name": "python3"
  },
  "language_info": {
   "codemirror_mode": {
    "name": "ipython",
    "version": 3
   },
   "file_extension": ".py",
   "mimetype": "text/x-python",
   "name": "python",
   "nbconvert_exporter": "python",
   "pygments_lexer": "ipython3",
   "version": "3.8.10"
  }
 },
 "nbformat": 4,
 "nbformat_minor": 5
}
