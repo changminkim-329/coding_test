{
 "cells": [
  {
   "cell_type": "markdown",
   "id": "85de8417",
   "metadata": {},
   "source": [
    "# 이진 탐색"
   ]
  },
  {
   "cell_type": "code",
   "execution_count": null,
   "id": "bb5eb3c2",
   "metadata": {},
   "outputs": [],
   "source": []
  },
  {
   "cell_type": "markdown",
   "id": "ee1536af",
   "metadata": {},
   "source": [
    "### 예제) 부품 찾기"
   ]
  },
  {
   "cell_type": "code",
   "execution_count": 6,
   "id": "787d4600",
   "metadata": {},
   "outputs": [
    {
     "name": "stdout",
     "output_type": "stream",
     "text": [
      "5\n",
      "8 3 7 9 2\n",
      "3\n",
      "5 7 9\n"
     ]
    }
   ],
   "source": [
    "n = int(input())\n",
    "n_list = list(map(int,input().split()))\n",
    "m = int(input())\n",
    "m_list = list(map(int,input().split()))"
   ]
  },
  {
   "cell_type": "code",
   "execution_count": 7,
   "id": "ced016ad",
   "metadata": {},
   "outputs": [],
   "source": [
    "n_list_ = sorted(n_list)"
   ]
  },
  {
   "cell_type": "markdown",
   "id": "9dd26654",
   "metadata": {},
   "source": [
    "### 틀린 코드\n",
    "- 코드 자체는 틀리지 않았지만, 원소가 많아지면 기하급수적으로 처리량이 많아지는 문제가 있다."
   ]
  },
  {
   "cell_type": "code",
   "execution_count": 5,
   "id": "425814ab",
   "metadata": {},
   "outputs": [],
   "source": [
    "answer = []\n",
    "for i in m_list:\n",
    "    if i in n_list_:\n",
    "        answer.append('yes')\n",
    "    else:\n",
    "        answer.append('no')"
   ]
  },
  {
   "cell_type": "code",
   "execution_count": 7,
   "id": "9f4ae0b1",
   "metadata": {},
   "outputs": [
    {
     "name": "stdout",
     "output_type": "stream",
     "text": [
      "no yes yes "
     ]
    }
   ],
   "source": [
    "for i in answer:\n",
    "    print(i,end=' ')"
   ]
  },
  {
   "cell_type": "code",
   "execution_count": null,
   "id": "a49e4640",
   "metadata": {},
   "outputs": [],
   "source": []
  },
  {
   "cell_type": "code",
   "execution_count": 22,
   "id": "9d702f59",
   "metadata": {},
   "outputs": [
    {
     "name": "stdout",
     "output_type": "stream",
     "text": [
      "no yes yes "
     ]
    }
   ],
   "source": [
    "for m_ in m_list:\n",
    "    check = False\n",
    "    start = 0\n",
    "    end = n-1\n",
    "    \n",
    "    while start<=end:\n",
    "        mid = (end+start)//2\n",
    "        if n_list_[mid] == m_:\n",
    "            print('yes',end=' ')\n",
    "            check = True\n",
    "            break\n",
    "            \n",
    "        elif n_list_[mid] < m_:\n",
    "            start = mid + 1\n",
    "            \n",
    "        else:\n",
    "            end = mid - 1\n",
    "    if not check :\n",
    "        print('no',end=' ')"
   ]
  },
  {
   "cell_type": "code",
   "execution_count": 17,
   "id": "64034b16",
   "metadata": {},
   "outputs": [
    {
     "data": {
      "text/plain": [
       "[5, 7, 9]"
      ]
     },
     "execution_count": 17,
     "metadata": {},
     "output_type": "execute_result"
    }
   ],
   "source": [
    "m_list"
   ]
  },
  {
   "cell_type": "code",
   "execution_count": null,
   "id": "7ab7b622",
   "metadata": {},
   "outputs": [],
   "source": []
  },
  {
   "cell_type": "code",
   "execution_count": 88,
   "id": "249cac98",
   "metadata": {},
   "outputs": [
    {
     "name": "stdout",
     "output_type": "stream",
     "text": [
      "4 7\n",
      "2 7 35 41\n"
     ]
    }
   ],
   "source": [
    "n, m = map(int,input().split())\n",
    "rice_list = list(map(int,input().split()))"
   ]
  },
  {
   "cell_type": "code",
   "execution_count": 100,
   "id": "adefae2e",
   "metadata": {},
   "outputs": [
    {
     "data": {
      "text/plain": [
       "[2, 7, 35, 41]"
      ]
     },
     "execution_count": 100,
     "metadata": {},
     "output_type": "execute_result"
    }
   ],
   "source": [
    "rice_list"
   ]
  },
  {
   "cell_type": "code",
   "execution_count": 101,
   "id": "2e6c59ae",
   "metadata": {},
   "outputs": [
    {
     "name": "stdout",
     "output_type": "stream",
     "text": [
      "start: 0 end: 85 mid: 42\n",
      "sum: 0\n",
      "루\n",
      "start: 0 end: 41 mid: 20\n",
      "sum: 36\n",
      "하이\n",
      "start: 21 end: 41 mid: 31\n",
      "sum: 14\n",
      "하이\n",
      "start: 32 end: 41 mid: 36\n",
      "sum: 5\n",
      "루\n",
      "start: 32 end: 35 mid: 33\n",
      "sum: 10\n",
      "하이\n",
      "start: 34 end: 35 mid: 34\n",
      "sum: 8\n",
      "하이\n",
      "start: 35 end: 35 mid: 35\n",
      "sum: 6\n",
      "루\n",
      "없음\n"
     ]
    }
   ],
   "source": [
    "h_max = sum(rice_list)\n",
    "h_min = 0\n",
    "\n",
    "start = h_min\n",
    "end = h_max\n",
    "check = False\n",
    "\n",
    "while start<=end:\n",
    "    mid = (end + start)//2\n",
    "    print('start:',start,'end:',end,'mid:',mid)\n",
    "    h_list = [ i-mid if i-mid > 0 else 0 for i in rice_list]\n",
    "    print('sum:',sum(h_list))\n",
    "    if sum(h_list) == m:\n",
    "        print(mid)\n",
    "        check= True\n",
    "        break\n",
    "        \n",
    "    elif sum(h_list) > m:\n",
    "        print('하이')\n",
    "        start = mid+1\n",
    "        \n",
    "    else:\n",
    "        print(\"루\")\n",
    "        end = mid-1\n",
    "        \n",
    "if not check:\n",
    "    print(\"없음\")"
   ]
  },
  {
   "cell_type": "code",
   "execution_count": null,
   "id": "2aa79212",
   "metadata": {},
   "outputs": [],
   "source": []
  },
  {
   "cell_type": "code",
   "execution_count": 102,
   "id": "52187d98",
   "metadata": {},
   "outputs": [
    {
     "name": "stdout",
     "output_type": "stream",
     "text": [
      "34\n"
     ]
    }
   ],
   "source": [
    "start = 0\n",
    "end = max(rice_list)\n",
    "\n",
    "result = 0\n",
    "while start<=end:\n",
    "    total = 0\n",
    "    mid =(start+end)//2\n",
    "    for x in rice_list:\n",
    "        if x > mid:\n",
    "            total += x -mid\n",
    "            \n",
    "    if total < m:\n",
    "        end = mid - 1\n",
    "        \n",
    "    else: \n",
    "        result = mid\n",
    "        start = mid +1\n",
    "        \n",
    "print(result)"
   ]
  },
  {
   "cell_type": "code",
   "execution_count": 103,
   "id": "818c48b2",
   "metadata": {
    "scrolled": true
   },
   "outputs": [
    {
     "name": "stdout",
     "output_type": "stream",
     "text": [
      "34\n"
     ]
    }
   ],
   "source": [
    "print(result)"
   ]
  },
  {
   "cell_type": "code",
   "execution_count": null,
   "id": "b426194e",
   "metadata": {},
   "outputs": [],
   "source": []
  }
 ],
 "metadata": {
  "kernelspec": {
   "display_name": "Python 3",
   "language": "python",
   "name": "python3"
  },
  "language_info": {
   "codemirror_mode": {
    "name": "ipython",
    "version": 3
   },
   "file_extension": ".py",
   "mimetype": "text/x-python",
   "name": "python",
   "nbconvert_exporter": "python",
   "pygments_lexer": "ipython3",
   "version": "3.8.10"
  }
 },
 "nbformat": 4,
 "nbformat_minor": 5
}
