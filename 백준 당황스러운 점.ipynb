{
 "cells": [
  {
   "cell_type": "markdown",
   "id": "d61ae4c4",
   "metadata": {},
   "source": [
    "# 백준 당황스러운 점"
   ]
  },
  {
   "cell_type": "markdown",
   "id": "8ad335c4",
   "metadata": {},
   "source": [
    "### 답은 맞는데, 틀린 경우\n",
    "- 수식의 오류 ex) int(a/2) (X) -> a//2"
   ]
  },
  {
   "cell_type": "code",
   "execution_count": null,
   "id": "c048f364",
   "metadata": {},
   "outputs": [],
   "source": []
  },
  {
   "cell_type": "markdown",
   "id": "a6bc12b1",
   "metadata": {},
   "source": [
    "### 문제를 이해 못함"
   ]
  },
  {
   "cell_type": "code",
   "execution_count": null,
   "id": "d976a860",
   "metadata": {},
   "outputs": [],
   "source": []
  }
 ],
 "metadata": {
  "kernelspec": {
   "display_name": "Python 3",
   "language": "python",
   "name": "python3"
  },
  "language_info": {
   "codemirror_mode": {
    "name": "ipython",
    "version": 3
   },
   "file_extension": ".py",
   "mimetype": "text/x-python",
   "name": "python",
   "nbconvert_exporter": "python",
   "pygments_lexer": "ipython3",
   "version": "3.8.10"
  }
 },
 "nbformat": 4,
 "nbformat_minor": 5
}
