{
 "cells": [
  {
   "cell_type": "markdown",
   "id": "e59e6dd2",
   "metadata": {},
   "source": [
    "### 올림 내림 반올림"
   ]
  },
  {
   "cell_type": "code",
   "execution_count": 1,
   "id": "32afba74",
   "metadata": {},
   "outputs": [],
   "source": [
    "import math"
   ]
  },
  {
   "cell_type": "markdown",
   "id": "c06bf2d6",
   "metadata": {},
   "source": [
    "### 내림"
   ]
  },
  {
   "cell_type": "code",
   "execution_count": 4,
   "id": "f2eabbe7",
   "metadata": {},
   "outputs": [
    {
     "name": "stdout",
     "output_type": "stream",
     "text": [
      "3\n",
      "3\n"
     ]
    }
   ],
   "source": [
    "print(math.floor(3.14))\n",
    "print(math.floor(3.6))"
   ]
  },
  {
   "cell_type": "markdown",
   "id": "6a13dde0",
   "metadata": {},
   "source": [
    "### 올림"
   ]
  },
  {
   "cell_type": "code",
   "execution_count": 5,
   "id": "bbfab556",
   "metadata": {},
   "outputs": [
    {
     "name": "stdout",
     "output_type": "stream",
     "text": [
      "4\n",
      "4\n"
     ]
    }
   ],
   "source": [
    "print(math.ceil(3.14))\n",
    "print(math.ceil(3.6))"
   ]
  },
  {
   "cell_type": "markdown",
   "id": "46fd2f50",
   "metadata": {},
   "source": [
    "### 반올림\n",
    "- python의 round는 사사오입 원칙을 따른다. 사사오입은  반올림할 자리의 수가 5이면 반올림 할 때 앞자리의 숫자가 짝수면 내림하고 홀수면 올림 한다.\n",
    "- 따라서 반올림을 할 경우 따로 함수를 구하는 것이 더 나을 것이다."
   ]
  },
  {
   "cell_type": "code",
   "execution_count": 11,
   "id": "f09169fc",
   "metadata": {},
   "outputs": [
    {
     "data": {
      "text/plain": [
       "0.5"
      ]
     },
     "execution_count": 11,
     "metadata": {},
     "output_type": "execute_result"
    }
   ],
   "source": [
    "5.5 % (5.5//5)"
   ]
  },
  {
   "cell_type": "code",
   "execution_count": 12,
   "id": "540f23d9",
   "metadata": {},
   "outputs": [],
   "source": [
    "def round_math(x):\n",
    "    if x% int(x) >= 0.5:\n",
    "        return int(x) + 1\n",
    "    else:\n",
    "        return int(x)"
   ]
  },
  {
   "cell_type": "code",
   "execution_count": 14,
   "id": "1212b180",
   "metadata": {},
   "outputs": [
    {
     "data": {
      "text/plain": [
       "4"
      ]
     },
     "execution_count": 14,
     "metadata": {},
     "output_type": "execute_result"
    }
   ],
   "source": [
    "round(4.5)"
   ]
  },
  {
   "cell_type": "code",
   "execution_count": 13,
   "id": "008c2437",
   "metadata": {},
   "outputs": [
    {
     "data": {
      "text/plain": [
       "5"
      ]
     },
     "execution_count": 13,
     "metadata": {},
     "output_type": "execute_result"
    }
   ],
   "source": [
    "round_math(4.5)"
   ]
  },
  {
   "cell_type": "code",
   "execution_count": null,
   "id": "9260245b",
   "metadata": {},
   "outputs": [],
   "source": []
  },
  {
   "cell_type": "code",
   "execution_count": null,
   "id": "fef0abf8",
   "metadata": {},
   "outputs": [],
   "source": []
  }
 ],
 "metadata": {
  "kernelspec": {
   "display_name": "Python 3",
   "language": "python",
   "name": "python3"
  },
  "language_info": {
   "codemirror_mode": {
    "name": "ipython",
    "version": 3
   },
   "file_extension": ".py",
   "mimetype": "text/x-python",
   "name": "python",
   "nbconvert_exporter": "python",
   "pygments_lexer": "ipython3",
   "version": "3.8.10"
  }
 },
 "nbformat": 4,
 "nbformat_minor": 5
}
