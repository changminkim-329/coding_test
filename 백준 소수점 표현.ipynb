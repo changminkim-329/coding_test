{
 "cells": [
  {
   "cell_type": "markdown",
   "id": "73361046",
   "metadata": {},
   "source": [
    "# 백준 소수점 표현"
   ]
  },
  {
   "cell_type": "markdown",
   "id": "ed51b24a",
   "metadata": {},
   "source": [
    "### round 함수 (round(값, 반올림하려는 자릿수))"
   ]
  },
  {
   "cell_type": "code",
   "execution_count": 1,
   "id": "41cbe197",
   "metadata": {},
   "outputs": [
    {
     "name": "stdout",
     "output_type": "stream",
     "text": [
      "4\n",
      "4.0\n",
      "3.6\n",
      "3.556\n",
      "3.5556\n"
     ]
    }
   ],
   "source": [
    "print(round(3.55555))  # (1)\n",
    "print(round(3.55555, 0)) # (2)\n",
    "print(round(3.55555, 1))\n",
    "print(round(3.55555, 3))\n",
    "print(round(3.55555, 4))"
   ]
  },
  {
   "cell_type": "markdown",
   "id": "e50f336e",
   "metadata": {},
   "source": [
    "### 2. format 함수 (format())"
   ]
  },
  {
   "cell_type": "code",
   "execution_count": 2,
   "id": "41efca7e",
   "metadata": {},
   "outputs": [
    {
     "name": "stdout",
     "output_type": "stream",
     "text": [
      "4\n",
      "3.6\n",
      "3.56\n",
      "3.556\n"
     ]
    }
   ],
   "source": [
    "print(\"{:.0f}\".format(3.55555))\n",
    "print(\"{:.1f}\".format(3.55555))\n",
    "print(\"{:.2f}\".format(3.55555))\n",
    "print(\"{:.3f}\".format(3.55555))"
   ]
  },
  {
   "cell_type": "code",
   "execution_count": null,
   "id": "e4f59370",
   "metadata": {},
   "outputs": [],
   "source": []
  }
 ],
 "metadata": {
  "kernelspec": {
   "display_name": "Python 3",
   "language": "python",
   "name": "python3"
  },
  "language_info": {
   "codemirror_mode": {
    "name": "ipython",
    "version": 3
   },
   "file_extension": ".py",
   "mimetype": "text/x-python",
   "name": "python",
   "nbconvert_exporter": "python",
   "pygments_lexer": "ipython3",
   "version": "3.8.10"
  }
 },
 "nbformat": 4,
 "nbformat_minor": 5
}
