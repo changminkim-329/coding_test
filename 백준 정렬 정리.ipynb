{
 "cells": [
  {
   "cell_type": "markdown",
   "id": "4d09c574",
   "metadata": {},
   "source": [
    "# 정렬 정리"
   ]
  },
  {
   "cell_type": "markdown",
   "id": "99c1bfad",
   "metadata": {},
   "source": [
    "### 다중 조건 정렬\n",
    "https://dev-note-97.tistory.com/125"
   ]
  },
  {
   "cell_type": "code",
   "execution_count": 2,
   "id": "df5f8af3",
   "metadata": {},
   "outputs": [
    {
     "name": "stdout",
     "output_type": "stream",
     "text": [
      "[('b', 1, '나'), ('c', 2, '라'), ('c', 3, '가'), ('a', 3, '다'), ('a', 7, '가')]\n"
     ]
    }
   ],
   "source": [
    "str_list = (('b', 1, '나'), ('c', 2, '라'), ('a', 3, '다'), ('a', 7, '가'), ('c', 3, '가'))\n",
    "str_list = sorted(str_list,key=lambda x: (x[1],x[2]))\n",
    "print(str_list)"
   ]
  },
  {
   "cell_type": "code",
   "execution_count": null,
   "id": "553eb9d0",
   "metadata": {},
   "outputs": [],
   "source": []
  },
  {
   "cell_type": "code",
   "execution_count": 3,
   "id": "3779c908",
   "metadata": {},
   "outputs": [
    {
     "ename": "NameError",
     "evalue": "name 'random' is not defined",
     "output_type": "error",
     "traceback": [
      "\u001b[0;31m\u001b[0m",
      "\u001b[0;31mNameError\u001b[0mTraceback (most recent call last)",
      "Input \u001b[0;32mIn [3]\u001b[0m, in \u001b[0;36m<cell line: 1>\u001b[0;34m()\u001b[0m\n\u001b[0;32m----> 1\u001b[0m \u001b[43mrandom\u001b[49m\n",
      "\u001b[0;31mNameError\u001b[0m: name 'random' is not defined"
     ]
    }
   ],
   "source": [
    "ra|nd|om"
   ]
  },
  {
   "cell_type": "code",
   "execution_count": null,
   "id": "6b1f9f06",
   "metadata": {},
   "outputs": [],
   "source": [
    "cda"
   ]
  },
  {
   "cell_type": "code",
   "execution_count": null,
   "id": "7eb46874",
   "metadata": {},
   "outputs": [],
   "source": []
  },
  {
   "cell_type": "code",
   "execution_count": null,
   "id": "caafb341",
   "metadata": {},
   "outputs": [],
   "source": [
    "settle"
   ]
  }
 ],
 "metadata": {
  "kernelspec": {
   "display_name": "Python 3",
   "language": "python",
   "name": "python3"
  },
  "language_info": {
   "codemirror_mode": {
    "name": "ipython",
    "version": 3
   },
   "file_extension": ".py",
   "mimetype": "text/x-python",
   "name": "python",
   "nbconvert_exporter": "python",
   "pygments_lexer": "ipython3",
   "version": "3.8.10"
  }
 },
 "nbformat": 4,
 "nbformat_minor": 5
}
