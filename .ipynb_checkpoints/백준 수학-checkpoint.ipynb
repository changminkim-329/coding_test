{
 "cells": [
  {
   "cell_type": "markdown",
   "id": "09eac6db",
   "metadata": {},
   "source": [
    "# 백준 수학"
   ]
  },
  {
   "cell_type": "markdown",
   "id": "91713f4e",
   "metadata": {},
   "source": [
    "### 조합\n",
    "![](https://t1.daumcdn.net/cfile/tistory/2412F64852DC19CE24)"
   ]
  },
  {
   "cell_type": "code",
   "execution_count": 7,
   "id": "691fab7d",
   "metadata": {},
   "outputs": [],
   "source": [
    "def get_combination(n,c):\n",
    "    result = 1\n",
    "    for i in range(n,n-c,-1):\n",
    "        result *= i\n",
    "        \n",
    "    print(result)\n",
    "    print(n-c)\n",
    "    for i in range(c,0,-1):\n",
    "        result = result // i\n",
    "        \n",
    "    return result"
   ]
  },
  {
   "cell_type": "code",
   "execution_count": 9,
   "id": "2c774dbc",
   "metadata": {},
   "outputs": [
    {
     "name": "stdout",
     "output_type": "stream",
     "text": [
      "422590010274432000\n",
      "16\n"
     ]
    },
    {
     "data": {
      "text/plain": [
       "67863915"
      ]
     },
     "execution_count": 9,
     "metadata": {},
     "output_type": "execute_result"
    }
   ],
   "source": [
    "get_combination(29,13)"
   ]
  },
  {
   "cell_type": "code",
   "execution_count": null,
   "id": "fb240f99",
   "metadata": {},
   "outputs": [],
   "source": []
  }
 ],
 "metadata": {
  "kernelspec": {
   "display_name": "Python 3",
   "language": "python",
   "name": "python3"
  },
  "language_info": {
   "codemirror_mode": {
    "name": "ipython",
    "version": 3
   },
   "file_extension": ".py",
   "mimetype": "text/x-python",
   "name": "python",
   "nbconvert_exporter": "python",
   "pygments_lexer": "ipython3",
   "version": "3.8.10"
  }
 },
 "nbformat": 4,
 "nbformat_minor": 5
}
