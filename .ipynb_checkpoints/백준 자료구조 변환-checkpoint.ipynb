{
 "cells": [
  {
   "cell_type": "markdown",
   "id": "00ecefcb",
   "metadata": {},
   "source": [
    "# 백준 자료구조 변환"
   ]
  },
  {
   "cell_type": "markdown",
   "id": "608d10c2",
   "metadata": {},
   "source": [
    "### 문자열 -> 리스트 변환"
   ]
  },
  {
   "cell_type": "code",
   "execution_count": 16,
   "id": "e9afe96d",
   "metadata": {},
   "outputs": [
    {
     "name": "stdout",
     "output_type": "stream",
     "text": [
      "[1, 2, 4, 5]\n"
     ]
    }
   ],
   "source": [
    "a = '1245'\n",
    "c = list(map(int,(list(a))))\n",
    "print(c)"
   ]
  },
  {
   "cell_type": "code",
   "execution_count": null,
   "id": "462bca84",
   "metadata": {},
   "outputs": [],
   "source": []
  },
  {
   "cell_type": "markdown",
   "id": "fcede08f",
   "metadata": {},
   "source": [
    "### 리스트 -> 문자열로 변환"
   ]
  },
  {
   "cell_type": "code",
   "execution_count": 3,
   "id": "8f6eb091",
   "metadata": {},
   "outputs": [],
   "source": [
    "a = ['i','am','transformer','']"
   ]
  },
  {
   "cell_type": "code",
   "execution_count": 4,
   "id": "d9a312cb",
   "metadata": {},
   "outputs": [
    {
     "data": {
      "text/plain": [
       "'iamtransformer'"
      ]
     },
     "execution_count": 4,
     "metadata": {},
     "output_type": "execute_result"
    }
   ],
   "source": [
    "''.join(a)"
   ]
  },
  {
   "cell_type": "code",
   "execution_count": null,
   "id": "39d895f9",
   "metadata": {},
   "outputs": [],
   "source": []
  },
  {
   "cell_type": "markdown",
   "id": "806bb942",
   "metadata": {},
   "source": [
    "### 리스트 -> 딕셔너리\n",
    "- 무조건 2차원 배열에, (key,value) 형태만 가능"
   ]
  },
  {
   "cell_type": "code",
   "execution_count": 21,
   "id": "4601bb94",
   "metadata": {},
   "outputs": [
    {
     "name": "stdout",
     "output_type": "stream",
     "text": [
      "{1: 'i', 2: 'am', 3: 'father'}\n",
      "{1: 'i', 2: 'am', 3: 'father'}\n"
     ]
    }
   ],
   "source": [
    "a = [[1,'i'],[2,'am'],[3,'father']]\n",
    "print(dict(a))\n",
    "\n",
    "b = [(1,'i'),(2,'am'),(3,'father')]\n",
    "print(dict(b))"
   ]
  },
  {
   "cell_type": "code",
   "execution_count": null,
   "id": "ad6e9bd6",
   "metadata": {},
   "outputs": [],
   "source": []
  }
 ],
 "metadata": {
  "kernelspec": {
   "display_name": "Python 3",
   "language": "python",
   "name": "python3"
  },
  "language_info": {
   "codemirror_mode": {
    "name": "ipython",
    "version": 3
   },
   "file_extension": ".py",
   "mimetype": "text/x-python",
   "name": "python",
   "nbconvert_exporter": "python",
   "pygments_lexer": "ipython3",
   "version": "3.8.10"
  }
 },
 "nbformat": 4,
 "nbformat_minor": 5
}
