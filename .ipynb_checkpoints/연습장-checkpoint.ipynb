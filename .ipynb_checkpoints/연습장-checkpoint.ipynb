{
 "cells": [
  {
   "cell_type": "code",
   "execution_count": 288,
   "id": "bbf38896",
   "metadata": {},
   "outputs": [],
   "source": [
    "value_list.sort(key=lambda x : x[1],reverse=True)"
   ]
  },
  {
   "cell_type": "code",
   "execution_count": 289,
   "id": "587e5bec",
   "metadata": {},
   "outputs": [
    {
     "data": {
      "text/plain": [
       "[(7, 85),\n",
       " (5, 74),\n",
       " (8, 61),\n",
       " (4, 57),\n",
       " (6, 40),\n",
       " (2, 38),\n",
       " (1, 29),\n",
       " (3, 12),\n",
       " (0, 3)]"
      ]
     },
     "execution_count": 289,
     "metadata": {},
     "output_type": "execute_result"
    }
   ],
   "source": [
    "value_list"
   ]
  },
  {
   "cell_type": "markdown",
   "id": "439da1c5",
   "metadata": {},
   "source": [
    "## sorted"
   ]
  },
  {
   "cell_type": "code",
   "execution_count": 293,
   "id": "8d27351d",
   "metadata": {},
   "outputs": [
    {
     "name": "stdout",
     "output_type": "stream",
     "text": [
      "1\n",
      "2\n",
      "3\n",
      "4\n",
      "5\n",
      "6\n",
      "7\n",
      "8\n",
      "9\n",
      "10\n",
      "10\n"
     ]
    }
   ],
   "source": [
    "value_list = []\n",
    "for i in range(10):\n",
    "    value = int(input())%42\n",
    "    if not value in value_list:\n",
    "        value_list.append(value)\n",
    "        \n",
    "print(len(value_list))"
   ]
  },
  {
   "cell_type": "code",
   "execution_count": 294,
   "id": "9eb40421",
   "metadata": {},
   "outputs": [
    {
     "data": {
      "text/plain": [
       "['2000', '5']"
      ]
     },
     "execution_count": 294,
     "metadata": {},
     "output_type": "execute_result"
    }
   ],
   "source": [
    "'2000 5'.split()"
   ]
  },
  {
   "cell_type": "code",
   "execution_count": 305,
   "id": "ee59204e",
   "metadata": {},
   "outputs": [
    {
     "name": "stdout",
     "output_type": "stream",
     "text": [
      "3\n",
      "10 20 30\n",
      "66.66666666666667\n"
     ]
    }
   ],
   "source": [
    "n = int(input())\n",
    "score_list = list(map(int,input().split()))\n",
    "max_score = max(score_list)\n",
    "score_list_new = []\n",
    "for score in score_list:\n",
    "    score_list_new.append(score/max_score*100)\n",
    "\n",
    "print(sum(score_list_new)/n)"
   ]
  },
  {
   "cell_type": "code",
   "execution_count": 304,
   "id": "b50bbda4",
   "metadata": {},
   "outputs": [
    {
     "data": {
      "text/plain": [
       "[40, 80, 60]"
      ]
     },
     "execution_count": 304,
     "metadata": {},
     "output_type": "execute_result"
    }
   ],
   "source": [
    "score_list"
   ]
  },
  {
   "cell_type": "code",
   "execution_count": null,
   "id": "d1aee599",
   "metadata": {},
   "outputs": [],
   "source": [
    "input().split(\"\")"
   ]
  },
  {
   "cell_type": "code",
   "execution_count": 310,
   "id": "a8b6176d",
   "metadata": {},
   "outputs": [
    {
     "name": "stdout",
     "output_type": "stream",
     "text": [
      "5\n",
      "OOXXOXXOOO\n",
      "1\n",
      "2\n",
      "0\n",
      "0\n",
      "1\n",
      "0\n",
      "0\n",
      "1\n",
      "2\n",
      "3\n",
      "10\n",
      "OOXXOOXXOO\n",
      "1\n",
      "2\n",
      "0\n",
      "0\n",
      "1\n",
      "2\n",
      "0\n",
      "0\n",
      "1\n",
      "2\n",
      "9\n",
      "OXOXOXOXOXOXOX\n",
      "1\n",
      "0\n",
      "1\n",
      "0\n",
      "1\n",
      "0\n",
      "1\n",
      "0\n",
      "1\n",
      "0\n",
      "1\n",
      "0\n",
      "1\n",
      "0\n",
      "7\n",
      "OOOOOOOOOO\n",
      "1\n",
      "2\n",
      "3\n",
      "4\n",
      "5\n",
      "6\n",
      "7\n",
      "8\n",
      "9\n",
      "10\n",
      "55\n",
      "OOOOXOOOOXOOOOX\n",
      "1\n",
      "2\n",
      "3\n",
      "4\n",
      "0\n",
      "1\n",
      "2\n",
      "3\n",
      "4\n",
      "0\n",
      "1\n",
      "2\n",
      "3\n",
      "4\n",
      "0\n",
      "30\n"
     ]
    }
   ],
   "source": [
    "n = int(input())\n",
    "for i in range(n):\n",
    "    checks = input()\n",
    "    score = 0\n",
    "    temp = 0\n",
    "    for check in checks:\n",
    "        if check == 'O':\n",
    "            temp += 1\n",
    "        else :\n",
    "            temp = 0\n",
    "        score += temp\n",
    "        \n",
    "    print(score)"
   ]
  },
  {
   "cell_type": "code",
   "execution_count": 321,
   "id": "150744a7",
   "metadata": {
    "scrolled": true
   },
   "outputs": [
    {
     "data": {
      "text/plain": [
       "20.499"
      ]
     },
     "execution_count": 321,
     "metadata": {},
     "output_type": "execute_result"
    }
   ],
   "source": [
    "round(20.4985902890,3)"
   ]
  },
  {
   "cell_type": "code",
   "execution_count": 7,
   "id": "8d34edf9",
   "metadata": {},
   "outputs": [
    {
     "name": "stdout",
     "output_type": "stream",
     "text": [
      "1\n",
      "9 100 99 98 97 96 95 94 93 91\n",
      "55.556%\n"
     ]
    }
   ],
   "source": [
    "n = int(input())\n",
    "for i in range(n):\n",
    "    checks = list(map(int,input().split()))\n",
    "    avg = sum(checks[1:])/checks[0]\n",
    "    check_avg = 0\n",
    "    for check in checks[1:]:\n",
    "        if check > avg:\n",
    "            check_avg+=1\n",
    "    check_avg = check_avg/checks[0] * 100\n",
    "    print(\"{:.3f}\".format(round(check_avg,3))+'%')"
   ]
  },
  {
   "cell_type": "code",
   "execution_count": 314,
   "id": "cbdd91a9",
   "metadata": {},
   "outputs": [
    {
     "data": {
      "text/plain": [
       "40.0"
      ]
     },
     "execution_count": 314,
     "metadata": {},
     "output_type": "execute_result"
    }
   ],
   "source": [
    "(2/5) * 100 "
   ]
  },
  {
   "cell_type": "code",
   "execution_count": 5,
   "id": "3eac7642",
   "metadata": {},
   "outputs": [
    {
     "data": {
      "text/plain": [
       "'3.000'"
      ]
     },
     "execution_count": 5,
     "metadata": {},
     "output_type": "execute_result"
    }
   ],
   "source": [
    "\"{:.3f}\".format(3.0)"
   ]
  },
  {
   "cell_type": "code",
   "execution_count": 8,
   "id": "191b7850",
   "metadata": {},
   "outputs": [
    {
     "data": {
      "text/plain": [
       "['2', '9', 'j', 'd', 'k']"
      ]
     },
     "execution_count": 8,
     "metadata": {},
     "output_type": "execute_result"
    }
   ],
   "source": [
    "list('29jdk')"
   ]
  },
  {
   "cell_type": "code",
   "execution_count": null,
   "id": "2d968f3a",
   "metadata": {},
   "outputs": [],
   "source": []
  },
  {
   "cell_type": "code",
   "execution_count": null,
   "id": "05f7622c",
   "metadata": {},
   "outputs": [],
   "source": [
    "n = int(input())\n",
    "n_list = list(str(n))\n",
    "for i in range(n,0,-1):\n",
    "    for i in range(len(n_list)-2):\n",
    "        try:\n",
    "            n_list[i] - n_list[i+1]\n",
    "        except Exception as e:\n",
    "            "
   ]
  },
  {
   "cell_type": "code",
   "execution_count": null,
   "id": "abe07f41",
   "metadata": {},
   "outputs": [],
   "source": [
    "n = input()"
   ]
  },
  {
   "cell_type": "code",
   "execution_count": 16,
   "id": "1e7276a8",
   "metadata": {},
   "outputs": [],
   "source": [
    "n = 'baekjoon'"
   ]
  },
  {
   "cell_type": "code",
   "execution_count": 17,
   "id": "7ac76265",
   "metadata": {},
   "outputs": [
    {
     "data": {
      "text/plain": [
       "['b', 'a', 'e', 'k', 'j', 'o', 'o', 'n']"
      ]
     },
     "execution_count": 17,
     "metadata": {},
     "output_type": "execute_result"
    }
   ],
   "source": [
    "list(n)"
   ]
  },
  {
   "cell_type": "code",
   "execution_count": 34,
   "id": "37536e5c",
   "metadata": {},
   "outputs": [],
   "source": [
    "f = set(list(n))"
   ]
  },
  {
   "cell_type": "code",
   "execution_count": 35,
   "id": "c6a5f4a1",
   "metadata": {},
   "outputs": [],
   "source": [
    "g = sorted(list(f))"
   ]
  },
  {
   "cell_type": "code",
   "execution_count": 36,
   "id": "2ab8b21f",
   "metadata": {
    "scrolled": true
   },
   "outputs": [
    {
     "data": {
      "text/plain": [
       "['a', 'b', 'e', 'j', 'k', 'n', 'o']"
      ]
     },
     "execution_count": 36,
     "metadata": {},
     "output_type": "execute_result"
    }
   ],
   "source": [
    "g"
   ]
  },
  {
   "cell_type": "code",
   "execution_count": 40,
   "id": "c2d41af9",
   "metadata": {},
   "outputs": [],
   "source": [
    "n_dict = {}"
   ]
  },
  {
   "cell_type": "code",
   "execution_count": 41,
   "id": "6559509b",
   "metadata": {},
   "outputs": [],
   "source": [
    "for i in range(len(g)):\n",
    "    n_dict[g[i]] = i"
   ]
  },
  {
   "cell_type": "code",
   "execution_count": 42,
   "id": "0cfb007f",
   "metadata": {},
   "outputs": [
    {
     "data": {
      "text/plain": [
       "{'a': 0, 'b': 1, 'e': 2, 'j': 3, 'k': 4, 'n': 5, 'o': 6}"
      ]
     },
     "execution_count": 42,
     "metadata": {},
     "output_type": "execute_result"
    }
   ],
   "source": [
    "n_dict"
   ]
  },
  {
   "cell_type": "code",
   "execution_count": 21,
   "id": "2d3ab533",
   "metadata": {},
   "outputs": [],
   "source": [
    "char = 'abcdefghijklmnopqrstvwxyz'"
   ]
  },
  {
   "cell_type": "code",
   "execution_count": 45,
   "id": "aca5ee65",
   "metadata": {},
   "outputs": [
    {
     "ename": "KeyError",
     "evalue": "'c'",
     "output_type": "error",
     "traceback": [
      "\u001b[0;31m\u001b[0m",
      "\u001b[0;31mKeyError\u001b[0mTraceback (most recent call last)",
      "Input \u001b[0;32mIn [45]\u001b[0m, in \u001b[0;36m<cell line: 1>\u001b[0;34m()\u001b[0m\n\u001b[0;32m----> 1\u001b[0m \u001b[43mn_dict\u001b[49m\u001b[43m[\u001b[49m\u001b[38;5;124;43m'\u001b[39;49m\u001b[38;5;124;43mc\u001b[39;49m\u001b[38;5;124;43m'\u001b[39;49m\u001b[43m]\u001b[49m\n",
      "\u001b[0;31mKeyError\u001b[0m: 'c'"
     ]
    }
   ],
   "source": [
    "n_dict['c']"
   ]
  },
  {
   "cell_type": "code",
   "execution_count": 24,
   "id": "4dba4caa",
   "metadata": {},
   "outputs": [
    {
     "name": "stdout",
     "output_type": "stream",
     "text": [
      "a\n",
      "b\n",
      "c\n",
      "d\n",
      "e\n",
      "f\n",
      "g\n",
      "h\n",
      "i\n",
      "j\n",
      "k\n",
      "l\n",
      "m\n",
      "n\n",
      "o\n",
      "p\n",
      "q\n",
      "r\n",
      "s\n",
      "t\n",
      "v\n",
      "w\n",
      "x\n",
      "y\n",
      "z\n"
     ]
    }
   ],
   "source": [
    "for c in char :\n",
    "    if c in g:\n",
    "        print()"
   ]
  },
  {
   "cell_type": "code",
   "execution_count": 47,
   "id": "51431555",
   "metadata": {},
   "outputs": [],
   "source": [
    "a = 'sSssf'"
   ]
  },
  {
   "cell_type": "code",
   "execution_count": 49,
   "id": "ebaabca2",
   "metadata": {},
   "outputs": [],
   "source": [
    "a = a.lower()"
   ]
  },
  {
   "cell_type": "code",
   "execution_count": 51,
   "id": "5ea6e3e7",
   "metadata": {},
   "outputs": [],
   "source": [
    "b = set(a)"
   ]
  },
  {
   "cell_type": "code",
   "execution_count": 55,
   "id": "a0988f23",
   "metadata": {},
   "outputs": [
    {
     "data": {
      "text/plain": [
       "{'f', 's'}"
      ]
     },
     "execution_count": 55,
     "metadata": {},
     "output_type": "execute_result"
    }
   ],
   "source": [
    "b"
   ]
  },
  {
   "cell_type": "code",
   "execution_count": 53,
   "id": "3707de7a",
   "metadata": {},
   "outputs": [
    {
     "name": "stdout",
     "output_type": "stream",
     "text": [
      "4\n",
      "1\n"
     ]
    }
   ],
   "source": [
    "for i in b:\n",
    "    print(a.count(i))"
   ]
  },
  {
   "cell_type": "code",
   "execution_count": 87,
   "id": "0ab78736",
   "metadata": {
    "scrolled": true
   },
   "outputs": [
    {
     "ename": "KeyboardInterrupt",
     "evalue": "",
     "output_type": "error",
     "traceback": [
      "\u001b[0;31m\u001b[0m",
      "\u001b[0;31mKeyboardInterrupt\u001b[0mTraceback (most recent call last)",
      "File \u001b[0;32m/usr/local/lib/python3.8/dist-packages/ipykernel/kernelbase.py:885\u001b[0m, in \u001b[0;36mKernel._input_request\u001b[0;34m(self, prompt, ident, parent, password)\u001b[0m\n\u001b[1;32m    884\u001b[0m \u001b[38;5;28;01mtry\u001b[39;00m:\n\u001b[0;32m--> 885\u001b[0m     ident, reply \u001b[38;5;241m=\u001b[39m \u001b[38;5;28;43mself\u001b[39;49m\u001b[38;5;241;43m.\u001b[39;49m\u001b[43msession\u001b[49m\u001b[38;5;241;43m.\u001b[39;49m\u001b[43mrecv\u001b[49m\u001b[43m(\u001b[49m\u001b[38;5;28;43mself\u001b[39;49m\u001b[38;5;241;43m.\u001b[39;49m\u001b[43mstdin_socket\u001b[49m\u001b[43m,\u001b[49m\u001b[43m \u001b[49m\u001b[38;5;241;43m0\u001b[39;49m\u001b[43m)\u001b[49m\n\u001b[1;32m    886\u001b[0m \u001b[38;5;28;01mexcept\u001b[39;00m \u001b[38;5;167;01mException\u001b[39;00m:\n",
      "File \u001b[0;32m/usr/local/lib/python3.8/dist-packages/jupyter_client/session.py:924\u001b[0m, in \u001b[0;36mSession.recv\u001b[0;34m(self, socket, mode, content, copy)\u001b[0m\n\u001b[1;32m    923\u001b[0m \u001b[38;5;28;01mtry\u001b[39;00m:\n\u001b[0;32m--> 924\u001b[0m     msg_list \u001b[38;5;241m=\u001b[39m \u001b[43msocket\u001b[49m\u001b[38;5;241;43m.\u001b[39;49m\u001b[43mrecv_multipart\u001b[49m\u001b[43m(\u001b[49m\u001b[43mmode\u001b[49m\u001b[43m,\u001b[49m\u001b[43m \u001b[49m\u001b[43mcopy\u001b[49m\u001b[38;5;241;43m=\u001b[39;49m\u001b[43mcopy\u001b[49m\u001b[43m)\u001b[49m\n\u001b[1;32m    925\u001b[0m \u001b[38;5;28;01mexcept\u001b[39;00m zmq\u001b[38;5;241m.\u001b[39mZMQError \u001b[38;5;28;01mas\u001b[39;00m e:\n",
      "File \u001b[0;32m/usr/local/lib/python3.8/dist-packages/zmq/sugar/socket.py:724\u001b[0m, in \u001b[0;36mSocket.recv_multipart\u001b[0;34m(self, flags, copy, track)\u001b[0m\n\u001b[1;32m    699\u001b[0m \u001b[38;5;124;03m\"\"\"Receive a multipart message as a list of bytes or Frame objects\u001b[39;00m\n\u001b[1;32m    700\u001b[0m \n\u001b[1;32m    701\u001b[0m \u001b[38;5;124;03mParameters\u001b[39;00m\n\u001b[0;32m   (...)\u001b[0m\n\u001b[1;32m    722\u001b[0m \u001b[38;5;124;03m    for any of the reasons :func:`~Socket.recv` might fail\u001b[39;00m\n\u001b[1;32m    723\u001b[0m \u001b[38;5;124;03m\"\"\"\u001b[39;00m\n\u001b[0;32m--> 724\u001b[0m parts \u001b[38;5;241m=\u001b[39m [\u001b[38;5;28;43mself\u001b[39;49m\u001b[38;5;241;43m.\u001b[39;49m\u001b[43mrecv\u001b[49m\u001b[43m(\u001b[49m\u001b[43mflags\u001b[49m\u001b[43m,\u001b[49m\u001b[43m \u001b[49m\u001b[43mcopy\u001b[49m\u001b[38;5;241;43m=\u001b[39;49m\u001b[43mcopy\u001b[49m\u001b[43m,\u001b[49m\u001b[43m \u001b[49m\u001b[43mtrack\u001b[49m\u001b[38;5;241;43m=\u001b[39;49m\u001b[43mtrack\u001b[49m\u001b[43m)\u001b[49m]\n\u001b[1;32m    725\u001b[0m \u001b[38;5;66;03m# have first part already, only loop while more to receive\u001b[39;00m\n",
      "File \u001b[0;32mzmq/backend/cython/socket.pyx:803\u001b[0m, in \u001b[0;36mzmq.backend.cython.socket.Socket.recv\u001b[0;34m()\u001b[0m\n",
      "File \u001b[0;32mzmq/backend/cython/socket.pyx:839\u001b[0m, in \u001b[0;36mzmq.backend.cython.socket.Socket.recv\u001b[0;34m()\u001b[0m\n",
      "File \u001b[0;32mzmq/backend/cython/socket.pyx:188\u001b[0m, in \u001b[0;36mzmq.backend.cython.socket._recv_copy\u001b[0;34m()\u001b[0m\n",
      "File \u001b[0;32m/usr/local/lib/python3.8/dist-packages/zmq/backend/cython/checkrc.pxd:13\u001b[0m, in \u001b[0;36mzmq.backend.cython.checkrc._check_rc\u001b[0;34m()\u001b[0m\n",
      "\u001b[0;31mKeyboardInterrupt\u001b[0m: ",
      "\nDuring handling of the above exception, another exception occurred:\n",
      "\u001b[0;31mKeyboardInterrupt\u001b[0mTraceback (most recent call last)",
      "Input \u001b[0;32mIn [87]\u001b[0m, in \u001b[0;36m<cell line: 1>\u001b[0;34m()\u001b[0m\n\u001b[0;32m----> 1\u001b[0m a \u001b[38;5;241m=\u001b[39m \u001b[38;5;28;43minput\u001b[39;49m\u001b[43m(\u001b[49m\u001b[43m)\u001b[49m\n\u001b[1;32m      2\u001b[0m a \u001b[38;5;241m=\u001b[39m a\u001b[38;5;241m.\u001b[39mlower()\n\u001b[1;32m      3\u001b[0m b \u001b[38;5;241m=\u001b[39m \u001b[38;5;28mset\u001b[39m(a)\n",
      "File \u001b[0;32m/usr/local/lib/python3.8/dist-packages/ipykernel/kernelbase.py:857\u001b[0m, in \u001b[0;36mKernel.raw_input\u001b[0;34m(self, prompt)\u001b[0m\n\u001b[1;32m    853\u001b[0m \u001b[38;5;28;01mif\u001b[39;00m \u001b[38;5;129;01mnot\u001b[39;00m \u001b[38;5;28mself\u001b[39m\u001b[38;5;241m.\u001b[39m_allow_stdin:\n\u001b[1;32m    854\u001b[0m     \u001b[38;5;28;01mraise\u001b[39;00m StdinNotImplementedError(\n\u001b[1;32m    855\u001b[0m         \u001b[38;5;124m\"\u001b[39m\u001b[38;5;124mraw_input was called, but this frontend does not support input requests.\u001b[39m\u001b[38;5;124m\"\u001b[39m\n\u001b[1;32m    856\u001b[0m     )\n\u001b[0;32m--> 857\u001b[0m \u001b[38;5;28;01mreturn\u001b[39;00m \u001b[38;5;28;43mself\u001b[39;49m\u001b[38;5;241;43m.\u001b[39;49m\u001b[43m_input_request\u001b[49m\u001b[43m(\u001b[49m\u001b[38;5;28;43mstr\u001b[39;49m\u001b[43m(\u001b[49m\u001b[43mprompt\u001b[49m\u001b[43m)\u001b[49m\u001b[43m,\u001b[49m\n\u001b[1;32m    858\u001b[0m \u001b[43m    \u001b[49m\u001b[38;5;28;43mself\u001b[39;49m\u001b[38;5;241;43m.\u001b[39;49m\u001b[43m_parent_ident\u001b[49m\u001b[43m,\u001b[49m\n\u001b[1;32m    859\u001b[0m \u001b[43m    \u001b[49m\u001b[38;5;28;43mself\u001b[39;49m\u001b[38;5;241;43m.\u001b[39;49m\u001b[43m_parent_header\u001b[49m\u001b[43m,\u001b[49m\n\u001b[1;32m    860\u001b[0m \u001b[43m    \u001b[49m\u001b[43mpassword\u001b[49m\u001b[38;5;241;43m=\u001b[39;49m\u001b[38;5;28;43;01mFalse\u001b[39;49;00m\u001b[43m,\u001b[49m\n\u001b[1;32m    861\u001b[0m \u001b[43m\u001b[49m\u001b[43m)\u001b[49m\n",
      "File \u001b[0;32m/usr/local/lib/python3.8/dist-packages/ipykernel/kernelbase.py:890\u001b[0m, in \u001b[0;36mKernel._input_request\u001b[0;34m(self, prompt, ident, parent, password)\u001b[0m\n\u001b[1;32m    887\u001b[0m     \u001b[38;5;28mself\u001b[39m\u001b[38;5;241m.\u001b[39mlog\u001b[38;5;241m.\u001b[39mwarning(\u001b[38;5;124m\"\u001b[39m\u001b[38;5;124mInvalid Message:\u001b[39m\u001b[38;5;124m\"\u001b[39m, exc_info\u001b[38;5;241m=\u001b[39m\u001b[38;5;28;01mTrue\u001b[39;00m)\n\u001b[1;32m    888\u001b[0m \u001b[38;5;28;01mexcept\u001b[39;00m \u001b[38;5;167;01mKeyboardInterrupt\u001b[39;00m:\n\u001b[1;32m    889\u001b[0m     \u001b[38;5;66;03m# re-raise KeyboardInterrupt, to truncate traceback\u001b[39;00m\n\u001b[0;32m--> 890\u001b[0m     \u001b[38;5;28;01mraise\u001b[39;00m \u001b[38;5;167;01mKeyboardInterrupt\u001b[39;00m\n\u001b[1;32m    891\u001b[0m \u001b[38;5;28;01melse\u001b[39;00m:\n\u001b[1;32m    892\u001b[0m     \u001b[38;5;28;01mbreak\u001b[39;00m\n",
      "\u001b[0;31mKeyboardInterrupt\u001b[0m: "
     ]
    }
   ],
   "source": [
    "a = input()\n",
    "a = a.lower()\n",
    "b = set(a)\n",
    "char_list = []\n",
    "for b_ in b:\n",
    "    char_list.append([b_,a.count(b_)])\n",
    "char_list = sorted(char_list,key=lambda x: x[1],reverse=True)\n",
    "\n",
    "if list(dict(char_list).values()).count(char_list[0][1])>1:\n",
    "    print('?')\n",
    "else:\n",
    "    print(char_list[0][0].upper())"
   ]
  },
  {
   "cell_type": "code",
   "execution_count": null,
   "id": "cf0316c0",
   "metadata": {},
   "outputs": [],
   "source": []
  },
  {
   "cell_type": "code",
   "execution_count": 88,
   "id": "9aecf7f0",
   "metadata": {},
   "outputs": [],
   "source": [
    "n = 'The Curious Case of Benjamin Button'"
   ]
  },
  {
   "cell_type": "code",
   "execution_count": null,
   "id": "e3b4a1bd",
   "metadata": {},
   "outputs": [],
   "source": []
  },
  {
   "cell_type": "code",
   "execution_count": 93,
   "id": "e1dcba9f",
   "metadata": {},
   "outputs": [
    {
     "data": {
      "text/plain": [
       "6"
      ]
     },
     "execution_count": 93,
     "metadata": {},
     "output_type": "execute_result"
    }
   ],
   "source": [
    "len(set(n.lower().split()))"
   ]
  },
  {
   "cell_type": "code",
   "execution_count": 98,
   "id": "666ee462",
   "metadata": {},
   "outputs": [
    {
     "name": "stdout",
     "output_type": "stream",
     "text": [
      "The Curious Case of Benjamin Button\n",
      "6\n"
     ]
    }
   ],
   "source": [
    "n = input()\n",
    "print(len(n.split()))\n"
   ]
  },
  {
   "cell_type": "code",
   "execution_count": null,
   "id": "dc0f0159",
   "metadata": {},
   "outputs": [],
   "source": []
  },
  {
   "cell_type": "code",
   "execution_count": 192,
   "id": "f874ed55",
   "metadata": {},
   "outputs": [
    {
     "name": "stdout",
     "output_type": "stream",
     "text": [
      "61\n",
      "5\n"
     ]
    }
   ],
   "source": [
    "n = int(input())\n",
    "start = 1\n",
    "count = 1\n",
    "while True:\n",
    "    if n > start:\n",
    "        start += 6*count\n",
    "        count +=1\n",
    "    \n",
    "    else:\n",
    "        print(count)\n",
    "        break"
   ]
  },
  {
   "cell_type": "code",
   "execution_count": null,
   "id": "3c2d9337",
   "metadata": {},
   "outputs": [],
   "source": [
    "temp = 0\n",
    "a/b : \n",
    "(a==1) and temp=0 -> 왼쪽으로, temp=1-> (temp=1) -> 밑으로 -> \n",
    "(b=1) -> 밑으로, temp=0 -> (a!=1) -> 위로 ->  "
   ]
  },
  {
   "cell_type": "code",
   "execution_count": 214,
   "id": "7db9fcff",
   "metadata": {},
   "outputs": [
    {
     "name": "stdout",
     "output_type": "stream",
     "text": [
      "14\n",
      "2/4\n"
     ]
    }
   ],
   "source": [
    "x = int(input())\n",
    "\n",
    "a = 1\n",
    "b = 1\n",
    "temp = 0\n",
    "for i in range(x-1):\n",
    "    if (a==1) and (temp==0) : \n",
    "        b +=1;\n",
    "        temp=1\n",
    "        continue \n",
    "        \n",
    "    if temp==1 and b!=1:\n",
    "        a+=1\n",
    "        b-=1\n",
    "        continue \n",
    "        \n",
    "    if b==1 and temp==1:\n",
    "        a+=1\n",
    "        temp =0\n",
    "        continue \n",
    "        \n",
    "    if a!=1 and temp==0:\n",
    "        a-=1\n",
    "        b+=1\n",
    "        continue\n",
    "\n",
    "print(str(a)+'/'+str(b))"
   ]
  },
  {
   "cell_type": "markdown",
   "id": "c8436360",
   "metadata": {},
   "source": [
    "### 백준 1193번 문제"
   ]
  },
  {
   "cell_type": "code",
   "execution_count": 15,
   "id": "2c9d816c",
   "metadata": {},
   "outputs": [
    {
     "name": "stdout",
     "output_type": "stream",
     "text": [
      "6\n",
      "1/3\n"
     ]
    }
   ],
   "source": [
    "\n",
    "x = int(input())\n",
    "x = x-1\n",
    "a = 1\n",
    "b = 1\n",
    "temp = 0\n",
    "for _ in range(x):\n",
    "    if (a==1) and (temp==0) : \n",
    "        b +=1;\n",
    "        temp=1\n",
    "        \n",
    "        \n",
    "    elif temp==1 and b!=1:\n",
    "        a+=1\n",
    "        b-=1\n",
    "        continue\n",
    "        \n",
    "    elif b==1 and temp==1:\n",
    "        a+=1\n",
    "        temp =0\n",
    "        continue\n",
    "        \n",
    "    elif a!=1 and temp==0:\n",
    "        a-=1\n",
    "        b+=1\n",
    "        \n",
    "    else:\n",
    "        pass\n",
    "\n",
    "print(str(a)+'/'+str(b))"
   ]
  },
  {
   "cell_type": "code",
   "execution_count": 9,
   "id": "bdca877c",
   "metadata": {},
   "outputs": [
    {
     "data": {
      "text/plain": [
       "''"
      ]
     },
     "execution_count": 9,
     "metadata": {},
     "output_type": "execute_result"
    }
   ],
   "source": [
    "sys.stdin.readline()"
   ]
  },
  {
   "cell_type": "code",
   "execution_count": null,
   "id": "1a239f0e",
   "metadata": {},
   "outputs": [],
   "source": [
    "2 - 1 + 2 -1 + 2 -1  + 2 "
   ]
  },
  {
   "cell_type": "code",
   "execution_count": null,
   "id": "84cffc4b",
   "metadata": {},
   "outputs": [],
   "source": [
    "A*n - B*(n-1) = 5\n",
    "A*n - B*(n-1) = 4"
   ]
  },
  {
   "cell_type": "code",
   "execution_count": null,
   "id": "d29ef6d2",
   "metadata": {},
   "outputs": [],
   "source": [
    "5*n - 1*(n-1) = 6"
   ]
  },
  {
   "cell_type": "code",
   "execution_count": null,
   "id": "d204e3b4",
   "metadata": {},
   "outputs": [],
   "source": [
    "n(A-B) + B >= 5"
   ]
  },
  {
   "cell_type": "code",
   "execution_count": null,
   "id": "f8d7c8d9",
   "metadata": {},
   "outputs": [],
   "source": [
    "4*n + 1 >= 6"
   ]
  },
  {
   "cell_type": "code",
   "execution_count": null,
   "id": "4d026ea7",
   "metadata": {},
   "outputs": [],
   "source": [
    "5/4"
   ]
  },
  {
   "cell_type": "code",
   "execution_count": null,
   "id": "b358229d",
   "metadata": {},
   "outputs": [],
   "source": [
    "6-5"
   ]
  },
  {
   "cell_type": "code",
   "execution_count": null,
   "id": "b06051e5",
   "metadata": {},
   "outputs": [],
   "source": [
    "round((V - B)/(A-B))"
   ]
  },
  {
   "cell_type": "code",
   "execution_count": 25,
   "id": "9c67d604",
   "metadata": {},
   "outputs": [
    {
     "data": {
      "text/plain": [
       "1.25"
      ]
     },
     "execution_count": 25,
     "metadata": {},
     "output_type": "execute_result"
    }
   ],
   "source": [
    "(6-1)/(5-1)"
   ]
  },
  {
   "cell_type": "code",
   "execution_count": 17,
   "id": "155ae643",
   "metadata": {},
   "outputs": [
    {
     "data": {
      "text/plain": [
       "''"
      ]
     },
     "execution_count": 17,
     "metadata": {},
     "output_type": "execute_result"
    }
   ],
   "source": [
    "\"\".strip()"
   ]
  },
  {
   "cell_type": "code",
   "execution_count": 19,
   "id": "ce45d2f1",
   "metadata": {},
   "outputs": [
    {
     "name": "stdout",
     "output_type": "stream",
     "text": [
      "2 4 5\n"
     ]
    }
   ],
   "source": [
    "A,B,V = map(int,input().strip)"
   ]
  },
  {
   "cell_type": "code",
   "execution_count": 35,
   "id": "86b54f43",
   "metadata": {},
   "outputs": [
    {
     "name": "stdout",
     "output_type": "stream",
     "text": [
      "5 1 6\n",
      "2\n"
     ]
    }
   ],
   "source": [
    "import math\n",
    "\n",
    "A,B,V = map(int,input().split())\n",
    "\n",
    "print(math.ceil((V - B)/(A-B)))"
   ]
  },
  {
   "cell_type": "code",
   "execution_count": 32,
   "id": "004b322c",
   "metadata": {},
   "outputs": [
    {
     "data": {
      "text/plain": [
       "6"
      ]
     },
     "execution_count": 32,
     "metadata": {},
     "output_type": "execute_result"
    }
   ],
   "source": [
    "math.ceil(5.1)"
   ]
  },
  {
   "cell_type": "code",
   "execution_count": null,
   "id": "52e518a3",
   "metadata": {},
   "outputs": [],
   "source": []
  },
  {
   "cell_type": "code",
   "execution_count": null,
   "id": "fe32e4d7",
   "metadata": {},
   "outputs": [],
   "source": []
  },
  {
   "cell_type": "code",
   "execution_count": null,
   "id": "8743f7f6",
   "metadata": {},
   "outputs": [],
   "source": [
    "거리가 우선 순위\n",
    "같은 층에서는 거리 순\n",
    "같은 거리에서 층 순"
   ]
  },
  {
   "cell_type": "code",
   "execution_count": 37,
   "id": "6bba6406",
   "metadata": {},
   "outputs": [],
   "source": [
    "H = 6\n",
    "W = 12 \n",
    "N = 10"
   ]
  },
  {
   "cell_type": "code",
   "execution_count": null,
   "id": "eba1440c",
   "metadata": {},
   "outputs": [],
   "source": []
  },
  {
   "cell_type": "code",
   "execution_count": 38,
   "id": "5a172886",
   "metadata": {},
   "outputs": [
    {
     "name": "stdout",
     "output_type": "stream",
     "text": [
      "4 2\n"
     ]
    }
   ],
   "source": [
    "print(N%H,(N//H)+1)"
   ]
  },
  {
   "cell_type": "code",
   "execution_count": null,
   "id": "0f5fa144",
   "metadata": {},
   "outputs": [],
   "source": [
    "N/H < N"
   ]
  },
  {
   "cell_type": "code",
   "execution_count": 43,
   "id": "c2716d2e",
   "metadata": {},
   "outputs": [
    {
     "data": {
      "text/plain": [
       "5"
      ]
     },
     "execution_count": 43,
     "metadata": {},
     "output_type": "execute_result"
    }
   ],
   "source": [
    "55%10"
   ]
  },
  {
   "cell_type": "code",
   "execution_count": 166,
   "id": "b27ba0af",
   "metadata": {},
   "outputs": [
    {
     "name": "stdout",
     "output_type": "stream",
     "text": [
      "1\n",
      "2 6 6\n",
      "004\n",
      "4\n"
     ]
    }
   ],
   "source": [
    "T = int(input())\n",
    "for i in range(T):\n",
    "    H,W,N = map(int,input().split()) #H: 높이, W: 거리, N: 손님\n",
    "\n",
    "    if (N//H+1) < 10:\n",
    "        N_ = '0'+str(N//H+1)\n",
    "    else:\n",
    "        N_ = str(N//H+1)\n",
    "    print(str(N%H)+N_)\n",
    "    print(int(str(N%H)+N_))"
   ]
  },
  {
   "cell_type": "code",
   "execution_count": 163,
   "id": "f5c4cf13",
   "metadata": {},
   "outputs": [
    {
     "name": "stdout",
     "output_type": "stream",
     "text": [
      "2\n",
      "40 2 2\n",
      "201\n",
      "6 10 12\n",
      "603\n"
     ]
    }
   ],
   "source": [
    "T = int(input())\n",
    "for i in range(T):\n",
    "    H,W,N = map(int,input().split()) #H: 높이, W: 거리, N: 손님\n",
    "\n",
    "    if N%H == 0:\n",
    "        H_ = str(H)\n",
    "    else :\n",
    "        H_ =str(N%H)\n",
    "        \n",
    "    if (N//H+1) < 10:\n",
    "        N_ = '0'+str(N//H+1)\n",
    "    else:\n",
    "        N_ = str(N//H+1)\n",
    "    print(H_+N_)"
   ]
  },
  {
   "cell_type": "code",
   "execution_count": 71,
   "id": "e9fa619d",
   "metadata": {},
   "outputs": [
    {
     "ename": "SyntaxError",
     "evalue": "cannot assign to operator (<ipython-input-71-818d72d414cf>, line 3)",
     "output_type": "error",
     "traceback": [
      "\u001b[0;36m  Input \u001b[0;32mIn [71]\u001b[0;36m\u001b[0m\n\u001b[0;31m    N%H = 2\u001b[0m\n\u001b[0m    ^\u001b[0m\n\u001b[0;31mSyntaxError\u001b[0m\u001b[0;31m:\u001b[0m cannot assign to operator\n"
     ]
    }
   ],
   "source": [
    "N = 40 \n",
    "H = 2\n",
    "N%H = 2\n",
    "\n",
    "N = 39\n",
    "H = 2\n",
    "N%H = 1"
   ]
  },
  {
   "cell_type": "code",
   "execution_count": 112,
   "id": "0829f42f",
   "metadata": {},
   "outputs": [],
   "source": [
    "N = 36\n",
    "H = 6\n",
    "W = 6"
   ]
  },
  {
   "cell_type": "code",
   "execution_count": 142,
   "id": "1f2106d8",
   "metadata": {},
   "outputs": [],
   "source": [
    "H = 6\n",
    "W = 10\n",
    "N = 12"
   ]
  },
  {
   "cell_type": "code",
   "execution_count": 147,
   "id": "42293235",
   "metadata": {},
   "outputs": [
    {
     "data": {
      "text/plain": [
       "0"
      ]
     },
     "execution_count": 147,
     "metadata": {},
     "output_type": "execute_result"
    }
   ],
   "source": [
    "N%H"
   ]
  },
  {
   "cell_type": "code",
   "execution_count": 162,
   "id": "700796aa",
   "metadata": {},
   "outputs": [
    {
     "name": "stdout",
     "output_type": "stream",
     "text": [
      "2\n",
      "6 12 10\n",
      "402\n",
      "30 50 72\n",
      "1203\n"
     ]
    }
   ],
   "source": [
    "T = int(input())\n",
    "for i in range(T):\n",
    "    H,W,N = map(int,input().split()) #H: 높이, W: 거리, N: 손님\n",
    "    \n",
    "    x = str(H) if N%H==0 else str(N%H)\n",
    "    y = N//H if N%H==0 else N//H+1\n",
    "    y = '0'+str(y) if y<10 else str(y)\n",
    "    \n",
    "    print(x+y)"
   ]
  },
  {
   "cell_type": "code",
   "execution_count": null,
   "id": "40e4ef7d",
   "metadata": {},
   "outputs": [],
   "source": [
    "틀리는 문제 -> 특정 경우에 대해서 틀린다. "
   ]
  },
  {
   "cell_type": "code",
   "execution_count": null,
   "id": "c936d9d6",
   "metadata": {},
   "outputs": [],
   "source": []
  },
  {
   "cell_type": "code",
   "execution_count": 171,
   "id": "9c044f01",
   "metadata": {},
   "outputs": [],
   "source": [
    "for i in range(2,2):\n",
    "    print(2)"
   ]
  },
  {
   "cell_type": "code",
   "execution_count": 174,
   "id": "0f706dd5",
   "metadata": {},
   "outputs": [
    {
     "name": "stdout",
     "output_type": "stream",
     "text": [
      "4\n",
      "1 3 5 7\n",
      "3\n"
     ]
    }
   ],
   "source": [
    "N = int(input())\n",
    "\n",
    "xs = list(map(int,input().split()))\n",
    "total = 0\n",
    "for x in xs:\n",
    "    if x > 1 :\n",
    "        check = True\n",
    "        for i in range(2,x):\n",
    "            if x%i == 0:\n",
    "                check = False\n",
    "                break\n",
    "        if check :\n",
    "            total+=1\n",
    "            \n",
    "    else:\n",
    "        pass\n",
    "    \n",
    "print(total)"
   ]
  },
  {
   "cell_type": "code",
   "execution_count": null,
   "id": "f26912cd",
   "metadata": {},
   "outputs": [],
   "source": []
  },
  {
   "cell_type": "code",
   "execution_count": 176,
   "id": "f77e0295",
   "metadata": {},
   "outputs": [
    {
     "data": {
      "text/plain": [
       "0"
      ]
     },
     "execution_count": 176,
     "metadata": {},
     "output_type": "execute_result"
    }
   ],
   "source": [
    "y_pos.index('1')"
   ]
  },
  {
   "cell_type": "code",
   "execution_count": 177,
   "id": "07a4207c",
   "metadata": {},
   "outputs": [
    {
     "data": {
      "text/plain": [
       "2"
      ]
     },
     "execution_count": 177,
     "metadata": {},
     "output_type": "execute_result"
    }
   ],
   "source": [
    "y_pos.index('3')"
   ]
  },
  {
   "cell_type": "code",
   "execution_count": 188,
   "id": "c9eddfd2",
   "metadata": {},
   "outputs": [],
   "source": [
    "y_pos = ['1','2','3']"
   ]
  },
  {
   "cell_type": "code",
   "execution_count": 189,
   "id": "ce74b648",
   "metadata": {},
   "outputs": [
    {
     "data": {
      "text/plain": [
       "'2'"
      ]
     },
     "execution_count": 189,
     "metadata": {},
     "output_type": "execute_result"
    }
   ],
   "source": [
    "y_pos[-2]"
   ]
  },
  {
   "cell_type": "code",
   "execution_count": 191,
   "id": "f2488d25",
   "metadata": {},
   "outputs": [
    {
     "data": {
      "text/plain": [
       "['x1']"
      ]
     },
     "execution_count": 191,
     "metadata": {},
     "output_type": "execute_result"
    }
   ],
   "source": [
    "'x1'"
   ]
  },
  {
   "cell_type": "code",
   "execution_count": 193,
   "id": "c4a7945a",
   "metadata": {},
   "outputs": [
    {
     "data": {
      "text/plain": [
       "-1"
      ]
     },
     "execution_count": 193,
     "metadata": {},
     "output_type": "execute_result"
    }
   ],
   "source": [
    "int(-1)"
   ]
  },
  {
   "cell_type": "code",
   "execution_count": 227,
   "id": "5896ccfb",
   "metadata": {},
   "outputs": [],
   "source": [
    "chess_list = chess_list.split(' ') "
   ]
  },
  {
   "cell_type": "code",
   "execution_count": 221,
   "id": "14c4e102",
   "metadata": {},
   "outputs": [
    {
     "data": {
      "text/plain": [
       "['1', '2', '3', '4', '5', '6']"
      ]
     },
     "execution_count": 221,
     "metadata": {},
     "output_type": "execute_result"
    }
   ],
   "source": [
    "y_pos"
   ]
  },
  {
   "cell_type": "code",
   "execution_count": 216,
   "id": "1b78b614",
   "metadata": {},
   "outputs": [
    {
     "ename": "IndexError",
     "evalue": "list index out of range",
     "output_type": "error",
     "traceback": [
      "\u001b[0;31m\u001b[0m",
      "\u001b[0;31mIndexError\u001b[0mTraceback (most recent call last)",
      "Input \u001b[0;32mIn [216]\u001b[0m, in \u001b[0;36m<cell line: 1>\u001b[0;34m()\u001b[0m\n\u001b[0;32m----> 1\u001b[0m \u001b[43mchess_list\u001b[49m\u001b[43m[\u001b[49m\u001b[43mi\u001b[49m\u001b[43m]\u001b[49m\n",
      "\u001b[0;31mIndexError\u001b[0m: list index out of range"
     ]
    }
   ],
   "source": [
    "chess_list[i]"
   ]
  },
  {
   "cell_type": "code",
   "execution_count": 217,
   "id": "d2399aa5",
   "metadata": {},
   "outputs": [
    {
     "data": {
      "text/plain": [
       "0"
      ]
     },
     "execution_count": 217,
     "metadata": {},
     "output_type": "execute_result"
    }
   ],
   "source": [
    "i"
   ]
  },
  {
   "cell_type": "code",
   "execution_count": null,
   "id": "bab44f37",
   "metadata": {},
   "outputs": [],
   "source": [
    "chess_list = []\n",
    "x_pos = ['A','B','C','D','E','F']\n",
    "y_pos = ['1','2','3','4','5','6']\n",
    "\n",
    "for i in range(36):\n",
    "    chess_list.append(input())"
   ]
  },
  {
   "cell_type": "code",
   "execution_count": null,
   "id": "f99b7e45",
   "metadata": {},
   "outputs": [],
   "source": []
  },
  {
   "cell_type": "code",
   "execution_count": 286,
   "id": "7d74dd43",
   "metadata": {},
   "outputs": [],
   "source": [
    "chess_list = chess_list.split()"
   ]
  },
  {
   "cell_type": "code",
   "execution_count": 287,
   "id": "ef619a4b",
   "metadata": {},
   "outputs": [
    {
     "name": "stdout",
     "output_type": "stream",
     "text": [
      "Invalid\n"
     ]
    }
   ],
   "source": [
    "chess_list = []\n",
    "x_pos = ['A','B','C','D','E','F']\n",
    "y_pos = ['1','2','3','4','5','6']\n",
    "\n",
    "for i in range(36):\n",
    "    chess_list.append(input())\n",
    "\n",
    "check = True\n",
    "\n",
    "for i in range(36-1):\n",
    "    if not(chess_list[i+1] == chess_list[0]):\n",
    "        p1 = (chess_list[i][0],chess_list[i][1])\n",
    "        p2 = (chess_list[i+1][0],chess_list[i+1][1])\n",
    "\n",
    "        a = x_pos.index(p1[0])-x_pos.index(p2[0])\n",
    "        a = a if a > 0 else -a\n",
    "        b = y_pos.index(p1[1])-y_pos.index(p2[1])\n",
    "        b = b if b > 0 else -b\n",
    "\n",
    "        if not((a+b == 3) and ((a==2 or a==1) and (b==2 or b==1))):\n",
    "            check = False\n",
    "            print('Invalid')\n",
    "            break\n",
    "    else:\n",
    "        check = False\n",
    "        print('Invalid')\n",
    "        break\n",
    "            \n",
    "        \n",
    "    \n",
    "if check :\n",
    "    p1 = (chess_list[0][0],chess_list[0][1])\n",
    "    p2 = (chess_list[-1][0],chess_list[-1][1])\n",
    "\n",
    "    a = x_pos.index(p1[0])-x_pos.index(p2[0])\n",
    "    a = a if a > 0 else -a\n",
    "    b = y_pos.index(p1[1])-y_pos.index(p2[1])\n",
    "    b = b if b > 0 else -b\n",
    "    \n",
    "    if not((a+b == 3) and ((a==2 or a==1) and (b==2 or b==1))):\n",
    "        print('Invalid')\n",
    "        \n",
    "    else:\n",
    "        print('Valid')"
   ]
  },
  {
   "cell_type": "markdown",
   "id": "a1bb12d6",
   "metadata": {},
   "source": [
    "# "
   ]
  },
  {
   "cell_type": "code",
   "execution_count": 288,
   "id": "99f71794",
   "metadata": {},
   "outputs": [],
   "source": [
    "a = [1,2,4,5]"
   ]
  },
  {
   "cell_type": "code",
   "execution_count": 289,
   "id": "a13035d7",
   "metadata": {},
   "outputs": [
    {
     "data": {
      "text/plain": [
       "5"
      ]
     },
     "execution_count": 289,
     "metadata": {},
     "output_type": "execute_result"
    }
   ],
   "source": [
    "a[-1]"
   ]
  },
  {
   "cell_type": "code",
   "execution_count": null,
   "id": "4c88b8c0",
   "metadata": {},
   "outputs": [],
   "source": []
  },
  {
   "cell_type": "code",
   "execution_count": null,
   "id": "632a1d91",
   "metadata": {},
   "outputs": [],
   "source": []
  },
  {
   "cell_type": "code",
   "execution_count": null,
   "id": "6140688d",
   "metadata": {},
   "outputs": [],
   "source": []
  },
  {
   "cell_type": "code",
   "execution_count": null,
   "id": "71e6b73a",
   "metadata": {},
   "outputs": [],
   "source": [
    "# 실 수 한 이유 ?\n",
    "- 반복 실수: ㅇㄹㅇㄹ"
   ]
  },
  {
   "cell_type": "code",
   "execution_count": 309,
   "id": "d76a4bb6",
   "metadata": {},
   "outputs": [
    {
     "name": "stdout",
     "output_type": "stream",
     "text": [
      "3\n",
      "10 50 40\n",
      "1\n"
     ]
    }
   ],
   "source": [
    "n = int(input())\n",
    "chat_list = list(map(int,input().split()))\n",
    "\n",
    "line_count =0\n",
    "half_check =0\n",
    "half_temp = False\n",
    "for i in range(len(chat_list)-1):\n",
    "    total_sum = chat_list[i]\n",
    "    half_check += total_sum\n",
    "    if half_temp :\n",
    "        break\n",
    "    if half_check >= 50:\n",
    "        half_temp =True\n",
    "        \n",
    "    if total_sum == 50:\n",
    "        line_count +=1\n",
    "        continue\n",
    "        \n",
    "    for j in range(i+1,len(chat_list)):\n",
    "        total_sum += chat_list[j]\n",
    "        if total_sum == 50:\n",
    "            line_count +=1\n",
    "            break\n",
    "            \n",
    "print(line_count)"
   ]
  },
  {
   "cell_type": "code",
   "execution_count": null,
   "id": "175817b2",
   "metadata": {},
   "outputs": [],
   "source": []
  }
 ],
 "metadata": {
  "kernelspec": {
   "display_name": "Python 3",
   "language": "python",
   "name": "python3"
  },
  "language_info": {
   "codemirror_mode": {
    "name": "ipython",
    "version": 3
   },
   "file_extension": ".py",
   "mimetype": "text/x-python",
   "name": "python",
   "nbconvert_exporter": "python",
   "pygments_lexer": "ipython3",
   "version": "3.8.10"
  }
 },
 "nbformat": 4,
 "nbformat_minor": 5
}
