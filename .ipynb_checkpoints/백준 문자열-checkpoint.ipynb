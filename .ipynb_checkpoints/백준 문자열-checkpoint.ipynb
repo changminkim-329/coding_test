{
 "cells": [
  {
   "cell_type": "markdown",
   "id": "c655e3ea",
   "metadata": {},
   "source": [
    "# 백준 문자열 "
   ]
  },
  {
   "cell_type": "markdown",
   "id": "ec6774be",
   "metadata": {},
   "source": [
    "### 문자열 처리 함수\n",
    "- lower : 소문자로 변환\n",
    "- upper : 대문자로 변환\n",
    "- isupper : 대문자인지 확인\n",
    "- islower : 소문자인지 확인\n",
    "- replace : 문자열 바꾸기\n",
    "- index : 찾으려는 문자열의 인덱스(없으면 에러)\n",
    "- find : 찾으려는 문자열의 인덱스 (없으면 -1)\n",
    "- count : 문자열이 나온 횟수"
   ]
  },
  {
   "cell_type": "code",
   "execution_count": 6,
   "id": "4dac0cdd",
   "metadata": {},
   "outputs": [
    {
     "name": "stdout",
     "output_type": "stream",
     "text": [
      "python is amazing\n",
      "PYTHON IS AMAZING\n",
      "True\n",
      "17\n",
      "Java is Amazing\n"
     ]
    }
   ],
   "source": [
    "python = 'Python is Amazing'\n",
    "print(python.lower())\n",
    "print(python.upper())\n",
    "print(python[0].isupper())\n",
    "print(len(python))\n",
    "print(python.replace(\"Python\",'Java'))"
   ]
  },
  {
   "cell_type": "code",
   "execution_count": 13,
   "id": "44dd3349",
   "metadata": {},
   "outputs": [
    {
     "name": "stdout",
     "output_type": "stream",
     "text": [
      "5\n",
      "15\n",
      "5\n",
      "-1\n"
     ]
    }
   ],
   "source": [
    "index = python.index(\"n\") # 처음으로 발견된 n 의 인덱스\n",
    "print(index) # 5 : Python 의 n\n",
    "index = python.index(\"n\", index + 1) # 6 번째 인덱스 이후에 처음으로 발견된 n 의 인덱스 \n",
    "print(index) # 15 : Amazing 의 n\n",
    "\n",
    "find = python.find(\"n\") # 처음으로 발견된 n 의 인덱스\n",
    "print(find) # 5 : Python 의 n\n",
    "find = python.find(\"ns\", find + 1) # 6 번째 인덱스 이후에 처음으로 발견된 n 의 인덱스 \n",
    "print(find) # 15 : Amazing 의 n"
   ]
  },
  {
   "cell_type": "code",
   "execution_count": null,
   "id": "f21415cd",
   "metadata": {},
   "outputs": [],
   "source": []
  },
  {
   "cell_type": "markdown",
   "id": "d4938a65",
   "metadata": {},
   "source": [
    "### 문자을 숫자로 바꾸기"
   ]
  },
  {
   "cell_type": "markdown",
   "id": "bb482199",
   "metadata": {},
   "source": [
    "#### ord\n",
    "- 하나의 문자를 유니코드 정수로 반환"
   ]
  },
  {
   "cell_type": "code",
   "execution_count": 2,
   "id": "5345a065",
   "metadata": {
    "scrolled": true
   },
   "outputs": [
    {
     "data": {
      "text/plain": [
       "97"
      ]
     },
     "execution_count": 2,
     "metadata": {},
     "output_type": "execute_result"
    }
   ],
   "source": [
    "ord('a')"
   ]
  },
  {
   "cell_type": "markdown",
   "id": "ac39a58d",
   "metadata": {},
   "source": [
    "#### chr\n",
    "- 하나의 정수를 유니코드 문자로 반환"
   ]
  },
  {
   "cell_type": "code",
   "execution_count": 3,
   "id": "54c2f5e7",
   "metadata": {},
   "outputs": [
    {
     "data": {
      "text/plain": [
       "'a'"
      ]
     },
     "execution_count": 3,
     "metadata": {},
     "output_type": "execute_result"
    }
   ],
   "source": [
    "chr(97)"
   ]
  },
  {
   "cell_type": "markdown",
   "id": "d36287de",
   "metadata": {},
   "source": [
    "a는 1, b는 2 순으로 바꾸기"
   ]
  },
  {
   "cell_type": "code",
   "execution_count": 5,
   "id": "a53b91ab",
   "metadata": {},
   "outputs": [
    {
     "name": "stdout",
     "output_type": "stream",
     "text": [
      "3\n"
     ]
    }
   ],
   "source": [
    "n = 'c'\n",
    "print(ord(n)-ord('a')+1)"
   ]
  },
  {
   "cell_type": "code",
   "execution_count": null,
   "id": "37b4abc0",
   "metadata": {},
   "outputs": [],
   "source": []
  }
 ],
 "metadata": {
  "kernelspec": {
   "display_name": "Python 3",
   "language": "python",
   "name": "python3"
  },
  "language_info": {
   "codemirror_mode": {
    "name": "ipython",
    "version": 3
   },
   "file_extension": ".py",
   "mimetype": "text/x-python",
   "name": "python",
   "nbconvert_exporter": "python",
   "pygments_lexer": "ipython3",
   "version": "3.8.10"
  }
 },
 "nbformat": 4,
 "nbformat_minor": 5
}
