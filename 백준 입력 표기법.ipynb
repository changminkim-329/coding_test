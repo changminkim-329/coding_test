{
 "cells": [
  {
   "cell_type": "code",
   "execution_count": null,
   "id": "f061427a",
   "metadata": {},
   "outputs": [],
   "source": [
    "a = int(input())\n",
    "b = input()"
   ]
  },
  {
   "cell_type": "code",
   "execution_count": null,
   "id": "d89a2fb7",
   "metadata": {},
   "outputs": [],
   "source": [
    "\n",
    "a,b = map(int,input().split())\n",
    "c = input()\n",
    "\n",
    "print(a, b)"
   ]
  },
  {
   "cell_type": "code",
   "execution_count": null,
   "id": "28440520",
   "metadata": {},
   "outputs": [],
   "source": [
    "a,b = map(int,input().split())\n",
    "\n",
    "print(a, b)"
   ]
  },
  {
   "cell_type": "code",
   "execution_count": null,
   "id": "5741952e",
   "metadata": {},
   "outputs": [],
   "source": [
    "loop = int(input())\n",
    "\n",
    "for _ in range(loop):\n",
    "    b, a = map(int,input().split())"
   ]
  },
  {
   "cell_type": "code",
   "execution_count": null,
   "id": "f4e1ecfc",
   "metadata": {},
   "outputs": [],
   "source": []
  },
  {
   "cell_type": "code",
   "execution_count": null,
   "id": "cc253225",
   "metadata": {},
   "outputs": [],
   "source": []
  }
 ],
 "metadata": {
  "kernelspec": {
   "display_name": "Python 3",
   "language": "python",
   "name": "python3"
  },
  "language_info": {
   "codemirror_mode": {
    "name": "ipython",
    "version": 3
   },
   "file_extension": ".py",
   "mimetype": "text/x-python",
   "name": "python",
   "nbconvert_exporter": "python",
   "pygments_lexer": "ipython3",
   "version": "3.8.10"
  }
 },
 "nbformat": 4,
 "nbformat_minor": 5
}
