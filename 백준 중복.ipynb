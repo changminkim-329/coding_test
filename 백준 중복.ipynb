{
 "cells": [
  {
   "cell_type": "markdown",
   "id": "f607c9ad",
   "metadata": {},
   "source": [
    "# 백준 중복"
   ]
  },
  {
   "cell_type": "markdown",
   "id": "05b02d27",
   "metadata": {},
   "source": [
    "### 백준 중복 제거"
   ]
  },
  {
   "cell_type": "code",
   "execution_count": 1,
   "id": "398846de",
   "metadata": {},
   "outputs": [],
   "source": [
    "a = ['b','b','d','d','d','f']"
   ]
  },
  {
   "cell_type": "code",
   "execution_count": 2,
   "id": "5fbc84e5",
   "metadata": {},
   "outputs": [
    {
     "data": {
      "text/plain": [
       "{'b', 'd', 'f'}"
      ]
     },
     "execution_count": 2,
     "metadata": {},
     "output_type": "execute_result"
    }
   ],
   "source": [
    "set(a)"
   ]
  },
  {
   "cell_type": "code",
   "execution_count": null,
   "id": "19822074",
   "metadata": {},
   "outputs": [],
   "source": []
  },
  {
   "cell_type": "markdown",
   "id": "1e2c0831",
   "metadata": {},
   "source": [
    "### 백준 중복 여부 확인"
   ]
  },
  {
   "cell_type": "code",
   "execution_count": 4,
   "id": "f060dc9e",
   "metadata": {},
   "outputs": [
    {
     "name": "stdout",
     "output_type": "stream",
     "text": [
      "중복 있음\n"
     ]
    }
   ],
   "source": [
    "if len(a) == set(a):\n",
    "    print(\"중복 없음\")\n",
    "else:\n",
    "    print(\"중복 있음\")"
   ]
  },
  {
   "cell_type": "code",
   "execution_count": null,
   "id": "fc08895b",
   "metadata": {},
   "outputs": [],
   "source": []
  }
 ],
 "metadata": {
  "kernelspec": {
   "display_name": "Python 3",
   "language": "python",
   "name": "python3"
  },
  "language_info": {
   "codemirror_mode": {
    "name": "ipython",
    "version": 3
   },
   "file_extension": ".py",
   "mimetype": "text/x-python",
   "name": "python",
   "nbconvert_exporter": "python",
   "pygments_lexer": "ipython3",
   "version": "3.8.10"
  }
 },
 "nbformat": 4,
 "nbformat_minor": 5
}
