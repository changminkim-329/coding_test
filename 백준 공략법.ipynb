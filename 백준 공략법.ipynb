{
 "cells": [
  {
   "cell_type": "markdown",
   "id": "cfd11246",
   "metadata": {},
   "source": [
    "# 백준 공략법"
   ]
  },
  {
   "cell_type": "markdown",
   "id": "fd94ca0d",
   "metadata": {},
   "source": [
    "1. 파이썬의 라이브러리를 제대로 알기\n",
    "\n",
    "2. 코테에 사용되는 알고리즘을 잘 알아두기\n",
    "\n",
    "3. 생각보다 단순한 알고리즘으로 풀리는 문제들이 많다.\n",
    "\n",
    "\n",
    "4. 입력이 많은 문제는 나중에 풀자\n",
    "- 이유: 디버딩 하기 어려움, 실수 할 확률이 높음\n",
    "\n",
    "5. 고려해야 할 조건이 많아 코드가 길어지는 문제는 일단 피하자\n",
    "\n",
    "6. 문제가 짧은 거 부터 읽어보자\n",
    "\n",
    "7. (여유 있을 때) 만약 문제가 안 풀리면 나와 있는 예제라도 맞는 지 확인 해라~\n",
    "\n",
    "8. 브루트포스로 풀리는 문제가 많다.(컴퓨터는 물론 사양마다 다르지만 보통 대강 시간을 따질 때 1억번의 단순 연산(덧셈, 뺄셈 곱셈 같은..)을 1초정도로 잡으므로 6840번은 사람에겐 모든 경우를 보자면 몇일 걸리겠지만, 컴퓨터는 0.1초도 안걸리는 쉬운 연산이다.)\n",
    "\n",
    "9. 알고리즘 효율을 위해 코드를 복잡하게 짜지 말고 단순하게 짜는 것이 좋다.\n",
    "\n",
    "10. 한 줄에 30초 에서 1분 정도 걸린다고 생각해라(최대한 짥게 짜라)\n",
    "\n",
    "11. 반복문이 2,000,000을 넘기지 않으면 계산할 수 있다.(브루스 포스)\n",
    "\n",
    "12. 너무 수학적으로 해석하지 않고 논리적(알고리즘)으로 해석해라"
   ]
  },
  {
   "cell_type": "markdown",
   "id": "67fa95a5",
   "metadata": {},
   "source": [
    "### 조건문 과 반복문은 최대한 깔끔하게 표현해야 된다."
   ]
  },
  {
   "cell_type": "code",
   "execution_count": null,
   "id": "1471a62b",
   "metadata": {},
   "outputs": [],
   "source": [
    "if N%H == 0:\n",
    "    x = str(H)\n",
    "    y = N//H\n",
    "else :\n",
    "    x =str(N%H)\n",
    "    y = N//H+1\n",
    "\n",
    "if (N//H+1) < 10:\n",
    "    y = '0'+str(y)\n",
    "else:\n",
    "    y = str(y)"
   ]
  },
  {
   "cell_type": "markdown",
   "id": "af86b8ae",
   "metadata": {},
   "source": [
    "->"
   ]
  },
  {
   "cell_type": "code",
   "execution_count": null,
   "id": "3bccc98b",
   "metadata": {},
   "outputs": [],
   "source": [
    "x = str(H) if N%H==0 else str(N%H)\n",
    "y = N//H if N%H==0 else N//H+1\n",
    "y = '0'+str(y) if y<10 else str(y)"
   ]
  },
  {
   "cell_type": "code",
   "execution_count": null,
   "id": "eaad1909",
   "metadata": {},
   "outputs": [],
   "source": []
  },
  {
   "cell_type": "code",
   "execution_count": 22,
   "id": "836efdc0",
   "metadata": {},
   "outputs": [
    {
     "name": "stdout",
     "output_type": "stream",
     "text": [
      "c2\n"
     ]
    }
   ],
   "source": [
    "n,m = list(input())"
   ]
  },
  {
   "cell_type": "code",
   "execution_count": 23,
   "id": "9e24a820",
   "metadata": {},
   "outputs": [],
   "source": [
    "n_p = {'a':1,'b':2,'c':3,'d':4,'e':5,'f':6,'g':7,'h':8}\n",
    "p = [n_p[n],int(m)]\n",
    "p_op = [[-1,-2],[1,-2],[-2,-1],[-2,1],[-1,2],[1,2],[2,-1],[2,1]]\n",
    "\n",
    "\n",
    "count = 0 \n",
    "for i in p_op:\n",
    "    a = i[0] + p[0]\n",
    "    b = i[1] + p[1]\n",
    "\n",
    "    if (a>=1 and a<=8) and (b>=1 and b<=8):\n",
    "        count += 1\n",
    "        \n",
    "print(count)"
   ]
  },
  {
   "cell_type": "markdown",
   "id": "c6724041",
   "metadata": {},
   "source": [
    "리스트 요소 간 연산 방법을 몰라서 조금 코드가 길어졌다."
   ]
  },
  {
   "cell_type": "code",
   "execution_count": 34,
   "id": "15864915",
   "metadata": {},
   "outputs": [
    {
     "name": "stdout",
     "output_type": "stream",
     "text": [
      "6\n"
     ]
    }
   ],
   "source": [
    "n_p = {'a':1,'b':2,'c':3,'d':4,'e':5,'f':6,'g':7,'h':8}\n",
    "p = [n_p[n],int(m)]\n",
    "p_op = [[-1,-2],[1,-2],[-2,-1],[-2,1],[-1,2],[1,2],[2,-1],[2,1]]\n",
    "\n",
    "\n",
    "count = 0 \n",
    "for i in p_op:\n",
    "    a,b = [x + y for x, y in zip(i,p)]\n",
    "\n",
    "    if (a>=1 and a<=8) and (b>=1 and b<=8):\n",
    "        count += 1\n",
    "        \n",
    "print(count)"
   ]
  },
  {
   "cell_type": "code",
   "execution_count": 33,
   "id": "e5ae4827",
   "metadata": {},
   "outputs": [
    {
     "data": {
      "text/plain": [
       "[5, 3]"
      ]
     },
     "execution_count": 33,
     "metadata": {},
     "output_type": "execute_result"
    }
   ],
   "source": [
    "[x + y for x, y in zip(i,p)]"
   ]
  },
  {
   "cell_type": "code",
   "execution_count": null,
   "id": "f53f9001",
   "metadata": {},
   "outputs": [],
   "source": []
  }
 ],
 "metadata": {
  "kernelspec": {
   "display_name": "Python 3",
   "language": "python",
   "name": "python3"
  },
  "language_info": {
   "codemirror_mode": {
    "name": "ipython",
    "version": 3
   },
   "file_extension": ".py",
   "mimetype": "text/x-python",
   "name": "python",
   "nbconvert_exporter": "python",
   "pygments_lexer": "ipython3",
   "version": "3.8.10"
  }
 },
 "nbformat": 4,
 "nbformat_minor": 5
}
